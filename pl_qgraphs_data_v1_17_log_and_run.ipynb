{
 "cells": [
  {
   "cell_type": "markdown",
   "id": "92426396-bb03-451f-89db-5f44073ebaeb",
   "metadata": {},
   "source": [
    "# QGraphs Data - Creation of digraphs\n",
    "\n",
    "*This notebook creates* ***QGgraphs (Quantum Digraphs)*** *in* ***Networkx**.*\n",
    "\n",
    "**By:** Jacob Cybulski<br>\n",
    "**Date:** August 2024<br>\n",
    "**Aims:** The goal of this notebook is to create random *Quantum Digraphs (QGraphs)*.<br/>\n",
    "**Networkx technical refs:**\n",
    "- Web site: https://networkx.org/documentation/stable/index.html\n",
    "- Tutorial: https://networkx.org/documentation/stable/tutorial.html"
   ]
  },
  {
   "cell_type": "code",
   "execution_count": null,
   "id": "8b67dda8-203d-4d60-a13c-0e043c35e1c2",
   "metadata": {},
   "outputs": [],
   "source": [
    "import sys\n",
    "sys.path.append('.')\n",
    "sys.path"
   ]
  },
  {
   "cell_type": "code",
   "execution_count": null,
   "id": "9fb963a7-124e-4f40-a7ae-916d3783b8b3",
   "metadata": {},
   "outputs": [],
   "source": [
    "### General libraries\n",
    "\n",
    "import matplotlib.pyplot as plt\n",
    "import matplotlib.patches as pltpat\n",
    "import pylab\n",
    "import math\n",
    "import os\n",
    "from IPython.display import clear_output\n",
    "\n",
    "from matplotlib import set_loglevel\n",
    "set_loglevel(\"error\")\n",
    "\n",
    "### Get utilities\n",
    "from utils.Digraphs import * \n",
    "from utils.Files import *\n",
    "\n",
    "%matplotlib inline"
   ]
  },
  {
   "cell_type": "markdown",
   "id": "f12d3f7e-1bc7-4933-a8e9-d7633f7f668f",
   "metadata": {},
   "source": [
    "## Define log details"
   ]
  },
  {
   "cell_type": "code",
   "execution_count": null,
   "id": "c01219c8-2f4c-47c0-9039-770e1a86de9e",
   "metadata": {},
   "outputs": [],
   "source": [
    "### Print options\n",
    "#   0 - Print nothing\n",
    "#   1 - Print essentials\n",
    "#   2 - Print all\n",
    "#   3 - Print debugging info\n",
    "\n",
    "info_level = 1"
   ]
  },
  {
   "cell_type": "code",
   "execution_count": null,
   "id": "bf908695-927c-442c-92c9-d7f6e0f8b0c0",
   "metadata": {},
   "outputs": [],
   "source": [
    "### Software version\n",
    "MAJOR = 1\n",
    "MINOR = 14\n",
    "\n",
    "### Constants\n",
    "LOG_NAME = 'logs'\n",
    "DATA_NAME = 'gen'\n",
    "DATA_PATH = f'{LOG_NAME}/data'\n",
    "GRAPH_PATH = f'{LOG_NAME}/graph'\n",
    "FIGURES_PATH = f'{LOG_NAME}/figures'\n",
    "\n",
    "### Create a folder if needed\n",
    "create_folder_if_needed(DATA_PATH)\n",
    "create_folder_if_needed(GRAPH_PATH)\n",
    "create_folder_if_needed(FIGURES_PATH)\n",
    "\n",
    "### Show constants\n",
    "if info_level > 0:\n",
    "    print(f'LOG_NAME: {LOG_NAME}, DATA_NAME: {DATA_NAME}\\n'+ \n",
    "          f'DATA_PATH: {DATA_PATH}, GRAPH_PATH: {GRAPH_PATH}, FIGURES_PATH: {FIGURES_PATH}')"
   ]
  },
  {
   "cell_type": "markdown",
   "id": "e76fe17c-1c58-499f-a9c4-1747746373c8",
   "metadata": {},
   "source": [
    "## Networkx digraph manipulation"
   ]
  },
  {
   "cell_type": "markdown",
   "id": "c88fae04-4540-429c-990d-c0c06ec7933d",
   "metadata": {},
   "source": [
    "### Digraph generation"
   ]
  },
  {
   "cell_type": "code",
   "execution_count": null,
   "id": "cb67cedc-2cca-4a63-899a-725028588e4e",
   "metadata": {},
   "outputs": [],
   "source": [
    "from pylab import *\n",
    "import json\n",
    "import networkx as nx\n",
    "from networkx.readwrite import json_graph"
   ]
  },
  {
   "cell_type": "code",
   "execution_count": null,
   "id": "0e7abc9f-7794-48bc-a14b-60de52c443b4",
   "metadata": {},
   "outputs": [],
   "source": [
    "### New graph parameters\n",
    "vers = 11 # Change this value to add new graph, then set to zero for test runs\n",
    "node_no = 16\n",
    "edge_p = 0.1"
   ]
  },
  {
   "cell_type": "code",
   "execution_count": null,
   "id": "b9512ba4-9974-4e68-ac58-5cf66121ae2b",
   "metadata": {},
   "outputs": [],
   "source": [
    "### Create a random graph\n",
    "g = nx.gnp_random_graph(node_no, edge_p, directed=True)\n",
    "g_node_no = g.number_of_nodes()\n",
    "g_edge_no = g.number_of_edges()\n",
    "unweighted_graph_name = f'digraph_{g_node_no:03d}_{g_edge_no:03d}_v{vers:03d}_unw'\n",
    "print(f'Graph name: {unweighted_graph_name}')\n",
    "draw_digraph(g)"
   ]
  },
  {
   "cell_type": "markdown",
   "id": "71adf8cb-30b1-47fd-b83d-8d3cadc8614b",
   "metadata": {},
   "source": [
    "### Save the graph"
   ]
  },
  {
   "cell_type": "code",
   "execution_count": null,
   "id": "9d9a3436-ecfd-45c2-8fad-f86ec24d6cb9",
   "metadata": {},
   "outputs": [],
   "source": [
    "### Saving of a graph to a file\n",
    "g_path = f'{GRAPH_PATH}/{unweighted_graph_name}.json'\n",
    "save_digraph(g, g_path)\n",
    "print(f'Saved graph in file: {g_path}')"
   ]
  },
  {
   "cell_type": "code",
   "execution_count": null,
   "id": "1264f8ae-07b6-4001-a536-0736df187576",
   "metadata": {},
   "outputs": [],
   "source": [
    "digraph_details(g)"
   ]
  },
  {
   "cell_type": "markdown",
   "id": "bacc0151-c732-4824-a3d7-98e7d5c86235",
   "metadata": {},
   "source": [
    "### Generate a QGraph for modeling"
   ]
  },
  {
   "cell_type": "markdown",
   "id": "fee3ad4d-fb65-4c00-b564-46e759b4815f",
   "metadata": {},
   "source": [
    "***Creation of a quantum digraph includes three stages:***<br/>\n",
    "- *Converting an undirected graph to an adjacency matrix*\n",
    "- *Changing all undirected edges to weighted directed edges*\n",
    "- *Expanding a digraph to a QGraph (quantum digraph) by adding loops to stop vertices*\n",
    "\n",
    "Note that on measurement, probabilities of navigation from a vertex to all possible targets adds to 1."
   ]
  },
  {
   "cell_type": "markdown",
   "id": "928a844b-b0da-4bba-a099-3477c172494d",
   "metadata": {},
   "source": [
    "### Continue or load another graph"
   ]
  },
  {
   "cell_type": "code",
   "execution_count": null,
   "id": "07887680-6fdb-418e-aa45-2d40f5011221",
   "metadata": {},
   "outputs": [],
   "source": [
    "### Select a graph and load it - either enter graph name or used the previous\n",
    "# sel_graph_name = f'digraph_064_044_v010_unw' # change and comment the next line\n",
    "sel_graph_name = f'digraph_{g_node_no:03d}_{g_edge_no:03d}_v{vers:03d}_unw'\n",
    "sel_graph_name"
   ]
  },
  {
   "cell_type": "code",
   "execution_count": null,
   "id": "a1560e8d-f3c3-4169-8dc3-c1bf704aeb44",
   "metadata": {},
   "outputs": [],
   "source": [
    "### Load the graph\n",
    "g_path = f'{GRAPH_PATH}/{sel_graph_name}.json'\n",
    "g_sel = load_digraph(g_path)\n",
    "\n",
    "g_sel_node_no = g_sel.number_of_nodes()\n",
    "g_sel_edge_no = g_sel.number_of_edges()\n",
    "calc_p = g_sel_edge_no / g_sel_node_no**2\n",
    "print(f'Digraph: name=\"{sel_graph_name}\", node# = {g_sel_node_no}, edge# = {g_sel_edge_no} (calculated p = {np.round(calc_p, 2)})')"
   ]
  },
  {
   "cell_type": "code",
   "execution_count": null,
   "id": "a97f3a23-0234-4a8b-97a0-824d2d46f3dc",
   "metadata": {},
   "outputs": [],
   "source": [
    "### Define parameters of the graph to be loaded\n",
    "save_vers = vers # Change this value to add new graph, then set to zero for test runs\n",
    "save_graph_name = f'digraph_{g_sel_node_no:03d}_{g_sel_edge_no:03d}_v{save_vers:03d}_wei'\n",
    "print(f'QGraph will be saved as: name=\"{save_graph_name}\"')"
   ]
  },
  {
   "cell_type": "code",
   "execution_count": null,
   "id": "3daa212f-bff0-4197-823b-2ae3b47b51fb",
   "metadata": {},
   "outputs": [],
   "source": [
    "### Draw the selected and loaded graph\n",
    "draw_digraph(g_sel, rcParams=(8, 6), \n",
    "             save_plot=f'{FIGURES_PATH}/{unweighted_graph_name}.eps')\n",
    "print(f'Loaded graph from file: {g_path}')"
   ]
  },
  {
   "cell_type": "markdown",
   "id": "3ee986d2-65d1-4fc2-9cd3-da32620f3dfb",
   "metadata": {},
   "source": [
    "### Generate a new QGraph"
   ]
  },
  {
   "cell_type": "markdown",
   "id": "4b3ab982-981c-4a32-984e-39408ba6ab13",
   "metadata": {},
   "source": [
    "#### Testing the process step by step and observe results"
   ]
  },
  {
   "cell_type": "code",
   "execution_count": null,
   "id": "972f0ec7-548d-4b69-9d77-fdaa606ff36b",
   "metadata": {},
   "outputs": [],
   "source": [
    "### Convert a graph to an adjacency matrix\n",
    "import scipy as sci # Not used as yet\n",
    "adj_sel = nx.adjacency_matrix(g_sel).toarray() # .todense() # adj_sel.toarray()\n",
    "adj_sel"
   ]
  },
  {
   "cell_type": "code",
   "execution_count": null,
   "id": "300ca2e6-897f-4f2d-a8b9-0bb59b871479",
   "metadata": {},
   "outputs": [],
   "source": [
    "### Expand the digraph to eliminate stop vertices (out-degree=0)\n",
    "adj_exp = digraph_adj_expand(adj_sel)\n",
    "np.around(adj_exp, 3)"
   ]
  },
  {
   "cell_type": "code",
   "execution_count": null,
   "id": "13e81860-e755-4d74-968c-9272cdde7e23",
   "metadata": {},
   "outputs": [],
   "source": [
    "### Generate edge probability weights (adding to 1.0)\n",
    "adj_w = digraph_adj_weigh(adj_exp, method='scale') # rand scale\n",
    "np.around(adj_w, 3)"
   ]
  },
  {
   "cell_type": "markdown",
   "id": "395c1ea9-ec7a-49dc-a888-23e691b28ec8",
   "metadata": {},
   "source": [
    "#### Now let us generate a QGraph in a single step"
   ]
  },
  {
   "cell_type": "code",
   "execution_count": null,
   "id": "8fe6076d-dd2b-4e8b-b27f-9adf9ad9a5a6",
   "metadata": {},
   "outputs": [],
   "source": [
    "### Test graph generation in one step\n",
    "g_new = digraph_expanded_and_weighed(g_sel, method='rand') # scale or rand\n",
    "draw_weighted_digraph(g_new, 'weight', ax=None, \n",
    "                      rcParams=(8, 6), save_plot=f'{FIGURES_PATH}/{save_graph_name}.eps')"
   ]
  },
  {
   "cell_type": "code",
   "execution_count": null,
   "id": "725a4bcd-1dbe-413e-8819-3117000af76c",
   "metadata": {},
   "outputs": [],
   "source": [
    "g_path = f'{GRAPH_PATH}/{save_graph_name}.json'\n",
    "save_digraph(g_new, g_path)\n",
    "print(f'Saved graph in file: {g_path}')"
   ]
  },
  {
   "cell_type": "code",
   "execution_count": null,
   "id": "fffaca6c-eeb6-49c9-be06-be38ee35bd58",
   "metadata": {},
   "outputs": [],
   "source": [
    "digraph_details(g_new)"
   ]
  },
  {
   "cell_type": "markdown",
   "id": "403bec1a-13a8-40e8-bb51-c7650afc4e44",
   "metadata": {},
   "source": [
    "## System"
   ]
  },
  {
   "cell_type": "code",
   "execution_count": null,
   "id": "bdd995cd-9bec-4d8d-b1ea-de0634b026e9",
   "metadata": {},
   "outputs": [],
   "source": [
    "!pip list | grep -e torch -e PennyLane -e networkx"
   ]
  }
 ],
 "metadata": {
  "kernelspec": {
   "display_name": "venv",
   "language": "python",
   "name": "python3"
  },
  "language_info": {
   "codemirror_mode": {
    "name": "ipython",
    "version": 3
   },
   "file_extension": ".py",
   "mimetype": "text/x-python",
   "name": "python",
   "nbconvert_exporter": "python",
   "pygments_lexer": "ipython3",
   "version": "3.11.11"
  },
  "widgets": {
   "application/vnd.jupyter.widget-state+json": {
    "state": {},
    "version_major": 2,
    "version_minor": 0
   }
  }
 },
 "nbformat": 4,
 "nbformat_minor": 5
}
