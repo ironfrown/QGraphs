{
 "cells": [
  {
   "cell_type": "code",
   "execution_count": 3,
   "metadata": {},
   "outputs": [],
   "source": [
    "import networkx as nx\n",
    "from qgraphs import BinaryGraph\n",
    "import math"
   ]
  },
  {
   "cell_type": "code",
   "execution_count": 4,
   "metadata": {},
   "outputs": [
    {
     "name": "stdout",
     "output_type": "stream",
     "text": [
      "Testing with Zachary's Karate Club Graph:\n",
      "\n",
      "Number of nodes: 34\n",
      "Number of edges: 78\n",
      "Number of bits required: 6\n",
      "\n",
      "First 10 node representations:\n",
      "Node  0 -> 000000\n",
      "Node  1 -> 000001\n",
      "Node  2 -> 000010\n",
      "Node  3 -> 000011\n",
      "Node  4 -> 000100\n",
      "Node  5 -> 000101\n",
      "Node  6 -> 000110\n",
      "Node  7 -> 000111\n",
      "Node  8 -> 001000\n",
      "Node  9 -> 001001\n",
      "\n",
      "Last 10 node representations:\n",
      "Node 24 -> 011000\n",
      "Node 25 -> 011001\n",
      "Node 26 -> 011010\n",
      "Node 27 -> 011011\n",
      "Node 28 -> 011100\n",
      "Node 29 -> 011101\n",
      "Node 30 -> 011110\n",
      "Node 31 -> 011111\n",
      "Node 32 -> 100000\n",
      "Node 33 -> 100001\n"
     ]
    }
   ],
   "source": [
    "print(\"Testing with Zachary's Karate Club Graph:\")\n",
    "    \n",
    "# Create standard Karate Club graph\n",
    "karate = nx.karate_club_graph()\n",
    "    \n",
    "# Create our enhanced graph\n",
    "bg = BinaryGraph(karate)\n",
    "    \n",
    "# Get binary representation (karate club nodes start at 0)\n",
    "binary_nodes = bg.get_binary_node_representation(start_node=0)\n",
    "\n",
    "# Print results\n",
    "print(f\"\\nNumber of nodes: {len(bg.nodes())}\")\n",
    "print(f\"Number of edges: {len(bg.edges())}\")\n",
    "print(f\"Number of bits required: {max(1, math.ceil(math.log2(len(bg.nodes()))))}\")\n",
    "\n",
    "print(\"\\nFirst 10 node representations:\")\n",
    "for node, binary in sorted(binary_nodes.items())[:10]:\n",
    "    print(f\"Node {node:2} -> {binary}\")\n",
    "\n",
    "print(\"\\nLast 10 node representations:\")\n",
    "for node, binary in sorted(binary_nodes.items())[-10:]:\n",
    "    print(f\"Node {node:2} -> {binary}\")"
   ]
  },
  {
   "cell_type": "code",
   "execution_count": null,
   "metadata": {},
   "outputs": [],
   "source": []
  }
 ],
 "metadata": {
  "kernelspec": {
   "display_name": "venv",
   "language": "python",
   "name": "python3"
  },
  "language_info": {
   "codemirror_mode": {
    "name": "ipython",
    "version": 3
   },
   "file_extension": ".py",
   "mimetype": "text/x-python",
   "name": "python",
   "nbconvert_exporter": "python",
   "pygments_lexer": "ipython3",
   "version": "3.11.11"
  }
 },
 "nbformat": 4,
 "nbformat_minor": 2
}
