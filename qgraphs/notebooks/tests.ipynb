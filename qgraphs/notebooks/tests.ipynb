{
 "cells": [
  {
   "cell_type": "code",
   "execution_count": 1,
   "metadata": {},
   "outputs": [
    {
     "data": {
      "text/html": [
       "<pre style=\"white-space:pre;overflow-x:auto;line-height:normal;font-family:Menlo,'DejaVu Sans Mono',consolas,'Courier New',monospace\"><span style=\"color: #7fbfbf; text-decoration-color: #7fbfbf\">[01/26/25 18:28:17] </span><span style=\"color: #000080; text-decoration-color: #000080\">INFO    </span> Using <span style=\"color: #008000; text-decoration-color: #008000\">'/Users/seba/Desktop/With </span>                                       <span style=\"color: #7f7f7f; text-decoration-color: #7f7f7f\">__init__.py:270</span>\n",
       "<span style=\"color: #7fbfbf; text-decoration-color: #7fbfbf\">                    </span>         <span style=\"color: #008000; text-decoration-color: #008000\">Jacob/QGraphs/venv/lib/python3.11/site-packages/kedro/framework/projec</span> <span style=\"color: #7f7f7f; text-decoration-color: #7f7f7f\">               </span>\n",
       "<span style=\"color: #7fbfbf; text-decoration-color: #7fbfbf\">                    </span>         <span style=\"color: #008000; text-decoration-color: #008000\">t/rich_logging.yml'</span> as logging configuration.                          <span style=\"color: #7f7f7f; text-decoration-color: #7f7f7f\">               </span>\n",
       "</pre>\n"
      ],
      "text/plain": [
       "\u001b[2;36m[01/26/25 18:28:17]\u001b[0m\u001b[2;36m \u001b[0m\u001b[34mINFO    \u001b[0m Using \u001b[32m'/Users/seba/Desktop/With \u001b[0m                                       \u001b[2m__init__.py\u001b[0m\u001b[2m:\u001b[0m\u001b[2m270\u001b[0m\n",
       "\u001b[2;36m                    \u001b[0m         \u001b[32mJacob/QGraphs/venv/lib/python3.11/site-packages/kedro/framework/projec\u001b[0m \u001b[2m               \u001b[0m\n",
       "\u001b[2;36m                    \u001b[0m         \u001b[32mt/rich_logging.yml'\u001b[0m as logging configuration.                          \u001b[2m               \u001b[0m\n"
      ]
     },
     "metadata": {},
     "output_type": "display_data"
    },
    {
     "data": {
      "text/html": [
       "<pre style=\"white-space:pre;overflow-x:auto;line-height:normal;font-family:Menlo,'DejaVu Sans Mono',consolas,'Courier New',monospace\"><span style=\"color: #7fbfbf; text-decoration-color: #7fbfbf\">                    </span><span style=\"color: #000080; text-decoration-color: #000080\">INFO    </span> Registered line magic <span style=\"color: #008000; text-decoration-color: #008000\">'%reload_kedro'</span>                                   <span style=\"color: #7f7f7f; text-decoration-color: #7f7f7f\">__init__.py:61</span>\n",
       "</pre>\n"
      ],
      "text/plain": [
       "\u001b[2;36m                   \u001b[0m\u001b[2;36m \u001b[0m\u001b[34mINFO    \u001b[0m Registered line magic \u001b[32m'%reload_kedro'\u001b[0m                                   \u001b[2m__init__.py\u001b[0m\u001b[2m:\u001b[0m\u001b[2m61\u001b[0m\n"
      ]
     },
     "metadata": {},
     "output_type": "display_data"
    },
    {
     "data": {
      "text/html": [
       "<pre style=\"white-space:pre;overflow-x:auto;line-height:normal;font-family:Menlo,'DejaVu Sans Mono',consolas,'Courier New',monospace\"><span style=\"color: #7fbfbf; text-decoration-color: #7fbfbf\">                    </span><span style=\"color: #000080; text-decoration-color: #000080\">INFO    </span> Registered line magic <span style=\"color: #008000; text-decoration-color: #008000\">'%load_node'</span>                                      <span style=\"color: #7f7f7f; text-decoration-color: #7f7f7f\">__init__.py:63</span>\n",
       "</pre>\n"
      ],
      "text/plain": [
       "\u001b[2;36m                   \u001b[0m\u001b[2;36m \u001b[0m\u001b[34mINFO    \u001b[0m Registered line magic \u001b[32m'%load_node'\u001b[0m                                      \u001b[2m__init__.py\u001b[0m\u001b[2m:\u001b[0m\u001b[2m63\u001b[0m\n"
      ]
     },
     "metadata": {},
     "output_type": "display_data"
    },
    {
     "data": {
      "text/html": [
       "<pre style=\"white-space:pre;overflow-x:auto;line-height:normal;font-family:Menlo,'DejaVu Sans Mono',consolas,'Courier New',monospace\"><span style=\"color: #7fbfbf; text-decoration-color: #7fbfbf\">                    </span><span style=\"color: #000080; text-decoration-color: #000080\">INFO    </span> Resolved project path as: <span style=\"color: #800080; text-decoration-color: #800080\">/Users/seba/Desktop/</span><span style=\"color: #ff00ff; text-decoration-color: #ff00ff\">With</span>                     <span style=\"color: #7f7f7f; text-decoration-color: #7f7f7f\">__init__.py:178</span>\n",
       "<span style=\"color: #7fbfbf; text-decoration-color: #7fbfbf\">                    </span>         Jacob/QGraphs/qgraphs.                                                 <span style=\"color: #7f7f7f; text-decoration-color: #7f7f7f\">               </span>\n",
       "<span style=\"color: #7fbfbf; text-decoration-color: #7fbfbf\">                    </span>         To set a different path, run <span style=\"color: #008000; text-decoration-color: #008000\">'%reload_kedro &lt;project_root&gt;'</span>            <span style=\"color: #7f7f7f; text-decoration-color: #7f7f7f\">               </span>\n",
       "</pre>\n"
      ],
      "text/plain": [
       "\u001b[2;36m                   \u001b[0m\u001b[2;36m \u001b[0m\u001b[34mINFO    \u001b[0m Resolved project path as: \u001b[35m/Users/seba/Desktop/\u001b[0m\u001b[95mWith\u001b[0m                     \u001b[2m__init__.py\u001b[0m\u001b[2m:\u001b[0m\u001b[2m178\u001b[0m\n",
       "\u001b[2;36m                    \u001b[0m         Jacob/QGraphs/qgraphs.                                                 \u001b[2m               \u001b[0m\n",
       "\u001b[2;36m                    \u001b[0m         To set a different path, run \u001b[32m'%reload_kedro \u001b[0m\u001b[32m<\u001b[0m\u001b[32mproject_root\u001b[0m\u001b[32m>\u001b[0m\u001b[32m'\u001b[0m            \u001b[2m               \u001b[0m\n"
      ]
     },
     "metadata": {},
     "output_type": "display_data"
    },
    {
     "data": {
      "text/html": [
       "<pre style=\"white-space:pre;overflow-x:auto;line-height:normal;font-family:Menlo,'DejaVu Sans Mono',consolas,'Courier New',monospace\"><span style=\"color: #7fbfbf; text-decoration-color: #7fbfbf\">[01/26/25 18:28:18] </span><span style=\"color: #000080; text-decoration-color: #000080\">INFO    </span> Kedro project qgraphs                                                  <span style=\"color: #7f7f7f; text-decoration-color: #7f7f7f\">__init__.py:144</span>\n",
       "</pre>\n"
      ],
      "text/plain": [
       "\u001b[2;36m[01/26/25 18:28:18]\u001b[0m\u001b[2;36m \u001b[0m\u001b[34mINFO    \u001b[0m Kedro project qgraphs                                                  \u001b[2m__init__.py\u001b[0m\u001b[2m:\u001b[0m\u001b[2m144\u001b[0m\n"
      ]
     },
     "metadata": {},
     "output_type": "display_data"
    },
    {
     "data": {
      "text/html": [
       "<pre style=\"white-space:pre;overflow-x:auto;line-height:normal;font-family:Menlo,'DejaVu Sans Mono',consolas,'Courier New',monospace\"><span style=\"color: #7fbfbf; text-decoration-color: #7fbfbf\">                    </span><span style=\"color: #000080; text-decoration-color: #000080\">INFO    </span> Defined global variable <span style=\"color: #008000; text-decoration-color: #008000\">'context'</span>, <span style=\"color: #008000; text-decoration-color: #008000\">'session'</span>, <span style=\"color: #008000; text-decoration-color: #008000\">'catalog'</span> and            <span style=\"color: #7f7f7f; text-decoration-color: #7f7f7f\">__init__.py:145</span>\n",
       "<span style=\"color: #7fbfbf; text-decoration-color: #7fbfbf\">                    </span>         <span style=\"color: #008000; text-decoration-color: #008000\">'pipelines'</span>                                                            <span style=\"color: #7f7f7f; text-decoration-color: #7f7f7f\">               </span>\n",
       "</pre>\n"
      ],
      "text/plain": [
       "\u001b[2;36m                   \u001b[0m\u001b[2;36m \u001b[0m\u001b[34mINFO    \u001b[0m Defined global variable \u001b[32m'context'\u001b[0m, \u001b[32m'session'\u001b[0m, \u001b[32m'catalog'\u001b[0m and            \u001b[2m__init__.py\u001b[0m\u001b[2m:\u001b[0m\u001b[2m145\u001b[0m\n",
       "\u001b[2;36m                    \u001b[0m         \u001b[32m'pipelines'\u001b[0m                                                            \u001b[2m               \u001b[0m\n"
      ]
     },
     "metadata": {},
     "output_type": "display_data"
    }
   ],
   "source": [
    "%load_ext kedro.ipython"
   ]
  },
  {
   "cell_type": "code",
   "execution_count": 2,
   "metadata": {},
   "outputs": [],
   "source": [
    "import networkx as nx\n",
    "\n",
    "def graph_generator(params):\n",
    "    node_no = params['node_no']\n",
    "    edge_p = params['edge_p']\n",
    "    vers = params['vers']\n",
    "\n",
    "    g = nx.gnp_random_graph(node_no, edge_p, directed=True)\n",
    "    unweighted_graph_name = f'digraph_{node_no:03d}_{edge_p:03d}_v{vers:03d}_unw'\n",
    "    #logger.info(f'Graph created: {unweighted_graph_name}')\n",
    "    return nx.node_link_data(g, edges=\"links\")"
   ]
  },
  {
   "cell_type": "code",
   "execution_count": 3,
   "metadata": {},
   "outputs": [],
   "source": [
    "node_no = 16\n",
    "edge_p = 0.1\n",
    "vers = 11"
   ]
  },
  {
   "cell_type": "code",
   "execution_count": 4,
   "metadata": {},
   "outputs": [],
   "source": [
    "g = nx.gnp_random_graph(node_no, edge_p, directed=True)"
   ]
  },
  {
   "cell_type": "code",
   "execution_count": 6,
   "metadata": {},
   "outputs": [
    {
     "data": {
      "text/html": [
       "<pre style=\"white-space:pre;overflow-x:auto;line-height:normal;font-family:Menlo,'DejaVu Sans Mono',consolas,'Courier New',monospace\"><span style=\"color: #7fbfbf; text-decoration-color: #7fbfbf\">[01/10/25 00:37:11] </span><span style=\"color: #000080; text-decoration-color: #000080\">INFO    </span> Loading data from <span style=\"color: #ff8700; text-decoration-color: #ff8700\">digraph_unw</span> <span style=\"font-weight: bold\">(</span>JSONDataset<span style=\"font-weight: bold\">)</span><span style=\"color: #808000; text-decoration-color: #808000\">...</span>                     <span style=\"color: #7f7f7f; text-decoration-color: #7f7f7f\">data_catalog.py:389</span>\n",
       "</pre>\n"
      ],
      "text/plain": [
       "\u001b[2;36m[01/10/25 00:37:11]\u001b[0m\u001b[2;36m \u001b[0m\u001b[34mINFO    \u001b[0m Loading data from \u001b[38;5;208mdigraph_unw\u001b[0m \u001b[1m(\u001b[0mJSONDataset\u001b[1m)\u001b[0m\u001b[33m...\u001b[0m                     \u001b[2mdata_catalog.py\u001b[0m\u001b[2m:\u001b[0m\u001b[2m389\u001b[0m\n"
      ]
     },
     "metadata": {},
     "output_type": "display_data"
    }
   ],
   "source": [
    "g = catalog.load('digraph_unw')"
   ]
  },
  {
   "cell_type": "code",
   "execution_count": 7,
   "metadata": {},
   "outputs": [],
   "source": [
    "G = nx.node_link_graph(g)"
   ]
  },
  {
   "cell_type": "code",
   "execution_count": 8,
   "metadata": {},
   "outputs": [
    {
     "data": {
      "text/html": [
       "<pre style=\"white-space:pre;overflow-x:auto;line-height:normal;font-family:Menlo,'DejaVu Sans Mono',consolas,'Courier New',monospace\"><span style=\"color: #7fbfbf; text-decoration-color: #7fbfbf\">[01/10/25 00:37:14] </span><span style=\"color: #808000; text-decoration-color: #808000\">WARNING </span> <span style=\"color: #800080; text-decoration-color: #800080\">/var/folders/53/b8z3c5xs0l51w2mzflnyk6400000gn/T/ipykernel_16539/</span><span style=\"color: #ff00ff; text-decoration-color: #ff00ff\">67287</span> <a href=\"file:///opt/homebrew/Cellar/python@3.11/3.11.11/Frameworks/Python.framework/Versions/3.11/lib/python3.11/warnings.py\" target=\"_blank\"><span style=\"color: #7f7f7f; text-decoration-color: #7f7f7f\">warnings.py</span></a><span style=\"color: #7f7f7f; text-decoration-color: #7f7f7f\">:</span><a href=\"file:///opt/homebrew/Cellar/python@3.11/3.11.11/Frameworks/Python.framework/Versions/3.11/lib/python3.11/warnings.py#110\" target=\"_blank\"><span style=\"color: #7f7f7f; text-decoration-color: #7f7f7f\">110</span></a>\n",
       "<span style=\"color: #7fbfbf; text-decoration-color: #7fbfbf\">                    </span>         <span style=\"color: #ff00ff; text-decoration-color: #ff00ff\">9585.py</span>:<span style=\"color: #008080; text-decoration-color: #008080; font-weight: bold\">1</span>: FutureWarning: adjacency_matrix will return a scipy.sparse  <span style=\"color: #7f7f7f; text-decoration-color: #7f7f7f\">               </span>\n",
       "<span style=\"color: #7fbfbf; text-decoration-color: #7fbfbf\">                    </span>         array instead of a matrix in Networkx <span style=\"color: #008080; text-decoration-color: #008080; font-weight: bold\">3.0</span>.                             <span style=\"color: #7f7f7f; text-decoration-color: #7f7f7f\">               </span>\n",
       "<span style=\"color: #7fbfbf; text-decoration-color: #7fbfbf\">                    </span>           adj_sel = <span style=\"color: #800080; text-decoration-color: #800080; font-weight: bold\">nx.adjacency_matrix</span><span style=\"font-weight: bold\">(</span>G<span style=\"font-weight: bold\">)</span><span style=\"color: #800080; text-decoration-color: #800080; font-weight: bold\">.toarray</span><span style=\"font-weight: bold\">()</span>                           <span style=\"color: #7f7f7f; text-decoration-color: #7f7f7f\">               </span>\n",
       "<span style=\"color: #7fbfbf; text-decoration-color: #7fbfbf\">                    </span>                                                                                <span style=\"color: #7f7f7f; text-decoration-color: #7f7f7f\">               </span>\n",
       "</pre>\n"
      ],
      "text/plain": [
       "\u001b[2;36m[01/10/25 00:37:14]\u001b[0m\u001b[2;36m \u001b[0m\u001b[33mWARNING \u001b[0m \u001b[35m/var/folders/53/b8z3c5xs0l51w2mzflnyk6400000gn/T/ipykernel_16539/\u001b[0m\u001b[95m67287\u001b[0m \u001b]8;id=393410;file:///opt/homebrew/Cellar/python@3.11/3.11.11/Frameworks/Python.framework/Versions/3.11/lib/python3.11/warnings.py\u001b\\\u001b[2mwarnings.py\u001b[0m\u001b]8;;\u001b\\\u001b[2m:\u001b[0m\u001b]8;id=856258;file:///opt/homebrew/Cellar/python@3.11/3.11.11/Frameworks/Python.framework/Versions/3.11/lib/python3.11/warnings.py#110\u001b\\\u001b[2m110\u001b[0m\u001b]8;;\u001b\\\n",
       "\u001b[2;36m                    \u001b[0m         \u001b[95m9585.py\u001b[0m:\u001b[1;36m1\u001b[0m: FutureWarning: adjacency_matrix will return a scipy.sparse  \u001b[2m               \u001b[0m\n",
       "\u001b[2;36m                    \u001b[0m         array instead of a matrix in Networkx \u001b[1;36m3.0\u001b[0m.                             \u001b[2m               \u001b[0m\n",
       "\u001b[2;36m                    \u001b[0m           adj_sel = \u001b[1;35mnx.adjacency_matrix\u001b[0m\u001b[1m(\u001b[0mG\u001b[1m)\u001b[0m\u001b[1;35m.toarray\u001b[0m\u001b[1m(\u001b[0m\u001b[1m)\u001b[0m                           \u001b[2m               \u001b[0m\n",
       "\u001b[2;36m                    \u001b[0m                                                                                \u001b[2m               \u001b[0m\n"
      ]
     },
     "metadata": {},
     "output_type": "display_data"
    }
   ],
   "source": [
    "adj_sel = nx.adjacency_matrix(G).toarray()"
   ]
  },
  {
   "cell_type": "code",
   "execution_count": 9,
   "metadata": {},
   "outputs": [],
   "source": [
    "import numpy as np\n",
    "def digraph_adj_expand(w_adj):\n",
    "    exp_adj = w_adj.copy() #.toarray()\n",
    "    for r in range(w_adj.shape[0]):\n",
    "        r_sum = np.count_nonzero(w_adj[r])\n",
    "        if r_sum == 0:\n",
    "            # No outgoing links - create a loop\n",
    "            exp_adj[r, r] = 1.0\n",
    "    return exp_adj"
   ]
  },
  {
   "cell_type": "code",
   "execution_count": 10,
   "metadata": {},
   "outputs": [],
   "source": [
    "adj_exp = digraph_adj_expand(adj_sel)"
   ]
  },
  {
   "cell_type": "code",
   "execution_count": 11,
   "metadata": {},
   "outputs": [
    {
     "data": {
      "text/html": [
       "<pre style=\"white-space:pre;overflow-x:auto;line-height:normal;font-family:Menlo,'DejaVu Sans Mono',consolas,'Courier New',monospace\"></pre>\n"
      ],
      "text/plain": []
     },
     "metadata": {},
     "output_type": "display_data"
    },
    {
     "data": {
      "text/plain": [
       "\n",
       "\u001b[1;35marray\u001b[0m\u001b[1m(\u001b[0m\u001b[1m[\u001b[0m\u001b[1m[\u001b[0m\u001b[1;36m0\u001b[0m, \u001b[1;36m0\u001b[0m, \u001b[1;36m0\u001b[0m, \u001b[1;36m0\u001b[0m, \u001b[1;36m1\u001b[0m, \u001b[1;36m0\u001b[0m, \u001b[1;36m0\u001b[0m, \u001b[1;36m0\u001b[0m, \u001b[1;36m0\u001b[0m, \u001b[1;36m0\u001b[0m, \u001b[1;36m0\u001b[0m, \u001b[1;36m0\u001b[0m, \u001b[1;36m1\u001b[0m, \u001b[1;36m0\u001b[0m, \u001b[1;36m0\u001b[0m, \u001b[1;36m0\u001b[0m\u001b[1m]\u001b[0m,\n",
       "       \u001b[1m[\u001b[0m\u001b[1;36m0\u001b[0m, \u001b[1;36m0\u001b[0m, \u001b[1;36m0\u001b[0m, \u001b[1;36m1\u001b[0m, \u001b[1;36m0\u001b[0m, \u001b[1;36m0\u001b[0m, \u001b[1;36m0\u001b[0m, \u001b[1;36m0\u001b[0m, \u001b[1;36m0\u001b[0m, \u001b[1;36m0\u001b[0m, \u001b[1;36m0\u001b[0m, \u001b[1;36m0\u001b[0m, \u001b[1;36m1\u001b[0m, \u001b[1;36m1\u001b[0m, \u001b[1;36m0\u001b[0m, \u001b[1;36m0\u001b[0m\u001b[1m]\u001b[0m,\n",
       "       \u001b[1m[\u001b[0m\u001b[1;36m0\u001b[0m, \u001b[1;36m0\u001b[0m, \u001b[1;36m0\u001b[0m, \u001b[1;36m0\u001b[0m, \u001b[1;36m0\u001b[0m, \u001b[1;36m0\u001b[0m, \u001b[1;36m0\u001b[0m, \u001b[1;36m0\u001b[0m, \u001b[1;36m0\u001b[0m, \u001b[1;36m0\u001b[0m, \u001b[1;36m0\u001b[0m, \u001b[1;36m1\u001b[0m, \u001b[1;36m0\u001b[0m, \u001b[1;36m0\u001b[0m, \u001b[1;36m0\u001b[0m, \u001b[1;36m0\u001b[0m\u001b[1m]\u001b[0m,\n",
       "       \u001b[1m[\u001b[0m\u001b[1;36m0\u001b[0m, \u001b[1;36m1\u001b[0m, \u001b[1;36m0\u001b[0m, \u001b[1;36m0\u001b[0m, \u001b[1;36m0\u001b[0m, \u001b[1;36m0\u001b[0m, \u001b[1;36m0\u001b[0m, \u001b[1;36m0\u001b[0m, \u001b[1;36m0\u001b[0m, \u001b[1;36m0\u001b[0m, \u001b[1;36m0\u001b[0m, \u001b[1;36m0\u001b[0m, \u001b[1;36m0\u001b[0m, \u001b[1;36m0\u001b[0m, \u001b[1;36m1\u001b[0m, \u001b[1;36m0\u001b[0m\u001b[1m]\u001b[0m,\n",
       "       \u001b[1m[\u001b[0m\u001b[1;36m0\u001b[0m, \u001b[1;36m0\u001b[0m, \u001b[1;36m0\u001b[0m, \u001b[1;36m1\u001b[0m, \u001b[1;36m0\u001b[0m, \u001b[1;36m0\u001b[0m, \u001b[1;36m0\u001b[0m, \u001b[1;36m0\u001b[0m, \u001b[1;36m0\u001b[0m, \u001b[1;36m0\u001b[0m, \u001b[1;36m0\u001b[0m, \u001b[1;36m0\u001b[0m, \u001b[1;36m0\u001b[0m, \u001b[1;36m0\u001b[0m, \u001b[1;36m0\u001b[0m, \u001b[1;36m0\u001b[0m\u001b[1m]\u001b[0m,\n",
       "       \u001b[1m[\u001b[0m\u001b[1;36m0\u001b[0m, \u001b[1;36m0\u001b[0m, \u001b[1;36m0\u001b[0m, \u001b[1;36m0\u001b[0m, \u001b[1;36m0\u001b[0m, \u001b[1;36m0\u001b[0m, \u001b[1;36m0\u001b[0m, \u001b[1;36m0\u001b[0m, \u001b[1;36m1\u001b[0m, \u001b[1;36m0\u001b[0m, \u001b[1;36m0\u001b[0m, \u001b[1;36m0\u001b[0m, \u001b[1;36m0\u001b[0m, \u001b[1;36m0\u001b[0m, \u001b[1;36m0\u001b[0m, \u001b[1;36m0\u001b[0m\u001b[1m]\u001b[0m,\n",
       "       \u001b[1m[\u001b[0m\u001b[1;36m0\u001b[0m, \u001b[1;36m0\u001b[0m, \u001b[1;36m0\u001b[0m, \u001b[1;36m0\u001b[0m, \u001b[1;36m0\u001b[0m, \u001b[1;36m0\u001b[0m, \u001b[1;36m1\u001b[0m, \u001b[1;36m0\u001b[0m, \u001b[1;36m0\u001b[0m, \u001b[1;36m0\u001b[0m, \u001b[1;36m0\u001b[0m, \u001b[1;36m0\u001b[0m, \u001b[1;36m0\u001b[0m, \u001b[1;36m0\u001b[0m, \u001b[1;36m0\u001b[0m, \u001b[1;36m0\u001b[0m\u001b[1m]\u001b[0m,\n",
       "       \u001b[1m[\u001b[0m\u001b[1;36m0\u001b[0m, \u001b[1;36m0\u001b[0m, \u001b[1;36m0\u001b[0m, \u001b[1;36m0\u001b[0m, \u001b[1;36m0\u001b[0m, \u001b[1;36m0\u001b[0m, \u001b[1;36m0\u001b[0m, \u001b[1;36m1\u001b[0m, \u001b[1;36m0\u001b[0m, \u001b[1;36m0\u001b[0m, \u001b[1;36m0\u001b[0m, \u001b[1;36m0\u001b[0m, \u001b[1;36m0\u001b[0m, \u001b[1;36m0\u001b[0m, \u001b[1;36m0\u001b[0m, \u001b[1;36m0\u001b[0m\u001b[1m]\u001b[0m,\n",
       "       \u001b[1m[\u001b[0m\u001b[1;36m0\u001b[0m, \u001b[1;36m0\u001b[0m, \u001b[1;36m0\u001b[0m, \u001b[1;36m0\u001b[0m, \u001b[1;36m0\u001b[0m, \u001b[1;36m0\u001b[0m, \u001b[1;36m0\u001b[0m, \u001b[1;36m0\u001b[0m, \u001b[1;36m0\u001b[0m, \u001b[1;36m0\u001b[0m, \u001b[1;36m0\u001b[0m, \u001b[1;36m0\u001b[0m, \u001b[1;36m0\u001b[0m, \u001b[1;36m0\u001b[0m, \u001b[1;36m0\u001b[0m, \u001b[1;36m1\u001b[0m\u001b[1m]\u001b[0m,\n",
       "       \u001b[1m[\u001b[0m\u001b[1;36m0\u001b[0m, \u001b[1;36m0\u001b[0m, \u001b[1;36m0\u001b[0m, \u001b[1;36m0\u001b[0m, \u001b[1;36m1\u001b[0m, \u001b[1;36m0\u001b[0m, \u001b[1;36m0\u001b[0m, \u001b[1;36m0\u001b[0m, \u001b[1;36m0\u001b[0m, \u001b[1;36m0\u001b[0m, \u001b[1;36m0\u001b[0m, \u001b[1;36m0\u001b[0m, \u001b[1;36m0\u001b[0m, \u001b[1;36m1\u001b[0m, \u001b[1;36m0\u001b[0m, \u001b[1;36m0\u001b[0m\u001b[1m]\u001b[0m,\n",
       "       \u001b[1m[\u001b[0m\u001b[1;36m0\u001b[0m, \u001b[1;36m0\u001b[0m, \u001b[1;36m0\u001b[0m, \u001b[1;36m0\u001b[0m, \u001b[1;36m0\u001b[0m, \u001b[1;36m0\u001b[0m, \u001b[1;36m0\u001b[0m, \u001b[1;36m0\u001b[0m, \u001b[1;36m0\u001b[0m, \u001b[1;36m1\u001b[0m, \u001b[1;36m0\u001b[0m, \u001b[1;36m0\u001b[0m, \u001b[1;36m0\u001b[0m, \u001b[1;36m0\u001b[0m, \u001b[1;36m0\u001b[0m, \u001b[1;36m0\u001b[0m\u001b[1m]\u001b[0m,\n",
       "       \u001b[1m[\u001b[0m\u001b[1;36m0\u001b[0m, \u001b[1;36m0\u001b[0m, \u001b[1;36m0\u001b[0m, \u001b[1;36m0\u001b[0m, \u001b[1;36m0\u001b[0m, \u001b[1;36m0\u001b[0m, \u001b[1;36m0\u001b[0m, \u001b[1;36m0\u001b[0m, \u001b[1;36m0\u001b[0m, \u001b[1;36m0\u001b[0m, \u001b[1;36m0\u001b[0m, \u001b[1;36m1\u001b[0m, \u001b[1;36m0\u001b[0m, \u001b[1;36m0\u001b[0m, \u001b[1;36m0\u001b[0m, \u001b[1;36m0\u001b[0m\u001b[1m]\u001b[0m,\n",
       "       \u001b[1m[\u001b[0m\u001b[1;36m0\u001b[0m, \u001b[1;36m0\u001b[0m, \u001b[1;36m0\u001b[0m, \u001b[1;36m0\u001b[0m, \u001b[1;36m0\u001b[0m, \u001b[1;36m0\u001b[0m, \u001b[1;36m0\u001b[0m, \u001b[1;36m0\u001b[0m, \u001b[1;36m0\u001b[0m, \u001b[1;36m0\u001b[0m, \u001b[1;36m0\u001b[0m, \u001b[1;36m0\u001b[0m, \u001b[1;36m1\u001b[0m, \u001b[1;36m0\u001b[0m, \u001b[1;36m0\u001b[0m, \u001b[1;36m0\u001b[0m\u001b[1m]\u001b[0m,\n",
       "       \u001b[1m[\u001b[0m\u001b[1;36m0\u001b[0m, \u001b[1;36m0\u001b[0m, \u001b[1;36m0\u001b[0m, \u001b[1;36m0\u001b[0m, \u001b[1;36m0\u001b[0m, \u001b[1;36m0\u001b[0m, \u001b[1;36m0\u001b[0m, \u001b[1;36m0\u001b[0m, \u001b[1;36m0\u001b[0m, \u001b[1;36m1\u001b[0m, \u001b[1;36m0\u001b[0m, \u001b[1;36m0\u001b[0m, \u001b[1;36m0\u001b[0m, \u001b[1;36m0\u001b[0m, \u001b[1;36m0\u001b[0m, \u001b[1;36m0\u001b[0m\u001b[1m]\u001b[0m,\n",
       "       \u001b[1m[\u001b[0m\u001b[1;36m0\u001b[0m, \u001b[1;36m0\u001b[0m, \u001b[1;36m0\u001b[0m, \u001b[1;36m1\u001b[0m, \u001b[1;36m0\u001b[0m, \u001b[1;36m0\u001b[0m, \u001b[1;36m0\u001b[0m, \u001b[1;36m1\u001b[0m, \u001b[1;36m0\u001b[0m, \u001b[1;36m1\u001b[0m, \u001b[1;36m0\u001b[0m, \u001b[1;36m0\u001b[0m, \u001b[1;36m0\u001b[0m, \u001b[1;36m0\u001b[0m, \u001b[1;36m0\u001b[0m, \u001b[1;36m0\u001b[0m\u001b[1m]\u001b[0m,\n",
       "       \u001b[1m[\u001b[0m\u001b[1;36m1\u001b[0m, \u001b[1;36m0\u001b[0m, \u001b[1;36m1\u001b[0m, \u001b[1;36m1\u001b[0m, \u001b[1;36m0\u001b[0m, \u001b[1;36m0\u001b[0m, \u001b[1;36m0\u001b[0m, \u001b[1;36m0\u001b[0m, \u001b[1;36m0\u001b[0m, \u001b[1;36m0\u001b[0m, \u001b[1;36m0\u001b[0m, \u001b[1;36m0\u001b[0m, \u001b[1;36m0\u001b[0m, \u001b[1;36m0\u001b[0m, \u001b[1;36m0\u001b[0m, \u001b[1;36m0\u001b[0m\u001b[1m]\u001b[0m\u001b[1m]\u001b[0m\u001b[1m)\u001b[0m"
      ]
     },
     "execution_count": 11,
     "metadata": {},
     "output_type": "execute_result"
    }
   ],
   "source": [
    "adj_exp"
   ]
  },
  {
   "cell_type": "code",
   "execution_count": 12,
   "metadata": {},
   "outputs": [],
   "source": [
    "def digraph_adj_weigh(unw_adj, params):\n",
    "    w_adj = unw_adj.copy().astype(float)\n",
    "    for r in range(unw_adj.shape[0]):\n",
    "        r_sum = sum(unw_adj[r])\n",
    "        r_nz = np.count_nonzero(unw_adj[r])\n",
    "        if r_sum != 0.0:\n",
    "            # Edges available - generate weights\n",
    "            if params['method'] == 'rand':\n",
    "                nz_weights = np.random.random(r_nz)\n",
    "            else:\n",
    "                nz_weights = np.array([num*1.0 for num in unw_adj[r] if num])\n",
    "            nz_weights /= nz_weights.sum()\n",
    "            w_no = 0\n",
    "            for c in range(unw_adj.shape[1]):\n",
    "                if unw_adj[r, c] > 0:\n",
    "                    w_adj[r, c] = nz_weights[w_no]\n",
    "                    w_no += 1\n",
    "    return np.around(w_adj, params['num'])"
   ]
  },
  {
   "cell_type": "code",
   "execution_count": 13,
   "metadata": {},
   "outputs": [
    {
     "data": {
      "text/html": [
       "<pre style=\"white-space:pre;overflow-x:auto;line-height:normal;font-family:Menlo,'DejaVu Sans Mono',consolas,'Courier New',monospace\"><span style=\"color: #7fbfbf; text-decoration-color: #7fbfbf\">[01/10/25 00:37:25] </span><span style=\"color: #000080; text-decoration-color: #000080\">INFO    </span> Loading data from <span style=\"color: #ff8700; text-decoration-color: #ff8700\">params:digraph_adj_weight</span> <span style=\"font-weight: bold\">(</span>MemoryDataset<span style=\"font-weight: bold\">)</span><span style=\"color: #808000; text-decoration-color: #808000\">...</span>     <span style=\"color: #7f7f7f; text-decoration-color: #7f7f7f\">data_catalog.py:389</span>\n",
       "</pre>\n"
      ],
      "text/plain": [
       "\u001b[2;36m[01/10/25 00:37:25]\u001b[0m\u001b[2;36m \u001b[0m\u001b[34mINFO    \u001b[0m Loading data from \u001b[38;5;208mparams:digraph_adj_weight\u001b[0m \u001b[1m(\u001b[0mMemoryDataset\u001b[1m)\u001b[0m\u001b[33m...\u001b[0m     \u001b[2mdata_catalog.py\u001b[0m\u001b[2m:\u001b[0m\u001b[2m389\u001b[0m\n"
      ]
     },
     "metadata": {},
     "output_type": "display_data"
    }
   ],
   "source": [
    "parameter = catalog.load(\"params:digraph_adj_weight\")"
   ]
  },
  {
   "cell_type": "code",
   "execution_count": 14,
   "metadata": {},
   "outputs": [],
   "source": [
    "adj_w = digraph_adj_weigh(adj_exp, parameter)"
   ]
  },
  {
   "cell_type": "code",
   "execution_count": 15,
   "metadata": {},
   "outputs": [
    {
     "data": {
      "text/html": [
       "<pre style=\"white-space:pre;overflow-x:auto;line-height:normal;font-family:Menlo,'DejaVu Sans Mono',consolas,'Courier New',monospace\"></pre>\n"
      ],
      "text/plain": []
     },
     "metadata": {},
     "output_type": "display_data"
    },
    {
     "data": {
      "text/plain": [
       "\n",
       "\u001b[1;35marray\u001b[0m\u001b[1m(\u001b[0m\u001b[1m[\u001b[0m\u001b[1m[\u001b[0m\u001b[1;36m0\u001b[0m.   , \u001b[1;36m0\u001b[0m.   , \u001b[1;36m0\u001b[0m.   , \u001b[1;36m0\u001b[0m.   , \u001b[1;36m0.5\u001b[0m  , \u001b[1;36m0\u001b[0m.   , \u001b[1;36m0\u001b[0m.   , \u001b[1;36m0\u001b[0m.   , \u001b[1;36m0\u001b[0m.   ,\n",
       "        \u001b[1;36m0\u001b[0m.   , \u001b[1;36m0\u001b[0m.   , \u001b[1;36m0\u001b[0m.   , \u001b[1;36m0.5\u001b[0m  , \u001b[1;36m0\u001b[0m.   , \u001b[1;36m0\u001b[0m.   , \u001b[1;36m0\u001b[0m.   \u001b[1m]\u001b[0m,\n",
       "       \u001b[1m[\u001b[0m\u001b[1;36m0\u001b[0m.   , \u001b[1;36m0\u001b[0m.   , \u001b[1;36m0\u001b[0m.   , \u001b[1;36m0.333\u001b[0m, \u001b[1;36m0\u001b[0m.   , \u001b[1;36m0\u001b[0m.   , \u001b[1;36m0\u001b[0m.   , \u001b[1;36m0\u001b[0m.   , \u001b[1;36m0\u001b[0m.   ,\n",
       "        \u001b[1;36m0\u001b[0m.   , \u001b[1;36m0\u001b[0m.   , \u001b[1;36m0\u001b[0m.   , \u001b[1;36m0.333\u001b[0m, \u001b[1;36m0.333\u001b[0m, \u001b[1;36m0\u001b[0m.   , \u001b[1;36m0\u001b[0m.   \u001b[1m]\u001b[0m,\n",
       "       \u001b[1m[\u001b[0m\u001b[1;36m0\u001b[0m.   , \u001b[1;36m0\u001b[0m.   , \u001b[1;36m0\u001b[0m.   , \u001b[1;36m0\u001b[0m.   , \u001b[1;36m0\u001b[0m.   , \u001b[1;36m0\u001b[0m.   , \u001b[1;36m0\u001b[0m.   , \u001b[1;36m0\u001b[0m.   , \u001b[1;36m0\u001b[0m.   ,\n",
       "        \u001b[1;36m0\u001b[0m.   , \u001b[1;36m0\u001b[0m.   , \u001b[1;36m1\u001b[0m.   , \u001b[1;36m0\u001b[0m.   , \u001b[1;36m0\u001b[0m.   , \u001b[1;36m0\u001b[0m.   , \u001b[1;36m0\u001b[0m.   \u001b[1m]\u001b[0m,\n",
       "       \u001b[1m[\u001b[0m\u001b[1;36m0\u001b[0m.   , \u001b[1;36m0.5\u001b[0m  , \u001b[1;36m0\u001b[0m.   , \u001b[1;36m0\u001b[0m.   , \u001b[1;36m0\u001b[0m.   , \u001b[1;36m0\u001b[0m.   , \u001b[1;36m0\u001b[0m.   , \u001b[1;36m0\u001b[0m.   , \u001b[1;36m0\u001b[0m.   ,\n",
       "        \u001b[1;36m0\u001b[0m.   , \u001b[1;36m0\u001b[0m.   , \u001b[1;36m0\u001b[0m.   , \u001b[1;36m0\u001b[0m.   , \u001b[1;36m0\u001b[0m.   , \u001b[1;36m0.5\u001b[0m  , \u001b[1;36m0\u001b[0m.   \u001b[1m]\u001b[0m,\n",
       "       \u001b[1m[\u001b[0m\u001b[1;36m0\u001b[0m.   , \u001b[1;36m0\u001b[0m.   , \u001b[1;36m0\u001b[0m.   , \u001b[1;36m1\u001b[0m.   , \u001b[1;36m0\u001b[0m.   , \u001b[1;36m0\u001b[0m.   , \u001b[1;36m0\u001b[0m.   , \u001b[1;36m0\u001b[0m.   , \u001b[1;36m0\u001b[0m.   ,\n",
       "        \u001b[1;36m0\u001b[0m.   , \u001b[1;36m0\u001b[0m.   , \u001b[1;36m0\u001b[0m.   , \u001b[1;36m0\u001b[0m.   , \u001b[1;36m0\u001b[0m.   , \u001b[1;36m0\u001b[0m.   , \u001b[1;36m0\u001b[0m.   \u001b[1m]\u001b[0m,\n",
       "       \u001b[1m[\u001b[0m\u001b[1;36m0\u001b[0m.   , \u001b[1;36m0\u001b[0m.   , \u001b[1;36m0\u001b[0m.   , \u001b[1;36m0\u001b[0m.   , \u001b[1;36m0\u001b[0m.   , \u001b[1;36m0\u001b[0m.   , \u001b[1;36m0\u001b[0m.   , \u001b[1;36m0\u001b[0m.   , \u001b[1;36m1\u001b[0m.   ,\n",
       "        \u001b[1;36m0\u001b[0m.   , \u001b[1;36m0\u001b[0m.   , \u001b[1;36m0\u001b[0m.   , \u001b[1;36m0\u001b[0m.   , \u001b[1;36m0\u001b[0m.   , \u001b[1;36m0\u001b[0m.   , \u001b[1;36m0\u001b[0m.   \u001b[1m]\u001b[0m,\n",
       "       \u001b[1m[\u001b[0m\u001b[1;36m0\u001b[0m.   , \u001b[1;36m0\u001b[0m.   , \u001b[1;36m0\u001b[0m.   , \u001b[1;36m0\u001b[0m.   , \u001b[1;36m0\u001b[0m.   , \u001b[1;36m0\u001b[0m.   , \u001b[1;36m1\u001b[0m.   , \u001b[1;36m0\u001b[0m.   , \u001b[1;36m0\u001b[0m.   ,\n",
       "        \u001b[1;36m0\u001b[0m.   , \u001b[1;36m0\u001b[0m.   , \u001b[1;36m0\u001b[0m.   , \u001b[1;36m0\u001b[0m.   , \u001b[1;36m0\u001b[0m.   , \u001b[1;36m0\u001b[0m.   , \u001b[1;36m0\u001b[0m.   \u001b[1m]\u001b[0m,\n",
       "       \u001b[1m[\u001b[0m\u001b[1;36m0\u001b[0m.   , \u001b[1;36m0\u001b[0m.   , \u001b[1;36m0\u001b[0m.   , \u001b[1;36m0\u001b[0m.   , \u001b[1;36m0\u001b[0m.   , \u001b[1;36m0\u001b[0m.   , \u001b[1;36m0\u001b[0m.   , \u001b[1;36m1\u001b[0m.   , \u001b[1;36m0\u001b[0m.   ,\n",
       "        \u001b[1;36m0\u001b[0m.   , \u001b[1;36m0\u001b[0m.   , \u001b[1;36m0\u001b[0m.   , \u001b[1;36m0\u001b[0m.   , \u001b[1;36m0\u001b[0m.   , \u001b[1;36m0\u001b[0m.   , \u001b[1;36m0\u001b[0m.   \u001b[1m]\u001b[0m,\n",
       "       \u001b[1m[\u001b[0m\u001b[1;36m0\u001b[0m.   , \u001b[1;36m0\u001b[0m.   , \u001b[1;36m0\u001b[0m.   , \u001b[1;36m0\u001b[0m.   , \u001b[1;36m0\u001b[0m.   , \u001b[1;36m0\u001b[0m.   , \u001b[1;36m0\u001b[0m.   , \u001b[1;36m0\u001b[0m.   , \u001b[1;36m0\u001b[0m.   ,\n",
       "        \u001b[1;36m0\u001b[0m.   , \u001b[1;36m0\u001b[0m.   , \u001b[1;36m0\u001b[0m.   , \u001b[1;36m0\u001b[0m.   , \u001b[1;36m0\u001b[0m.   , \u001b[1;36m0\u001b[0m.   , \u001b[1;36m1\u001b[0m.   \u001b[1m]\u001b[0m,\n",
       "       \u001b[1m[\u001b[0m\u001b[1;36m0\u001b[0m.   , \u001b[1;36m0\u001b[0m.   , \u001b[1;36m0\u001b[0m.   , \u001b[1;36m0\u001b[0m.   , \u001b[1;36m0.5\u001b[0m  , \u001b[1;36m0\u001b[0m.   , \u001b[1;36m0\u001b[0m.   , \u001b[1;36m0\u001b[0m.   , \u001b[1;36m0\u001b[0m.   ,\n",
       "        \u001b[1;36m0\u001b[0m.   , \u001b[1;36m0\u001b[0m.   , \u001b[1;36m0\u001b[0m.   , \u001b[1;36m0\u001b[0m.   , \u001b[1;36m0.5\u001b[0m  , \u001b[1;36m0\u001b[0m.   , \u001b[1;36m0\u001b[0m.   \u001b[1m]\u001b[0m,\n",
       "       \u001b[1m[\u001b[0m\u001b[1;36m0\u001b[0m.   , \u001b[1;36m0\u001b[0m.   , \u001b[1;36m0\u001b[0m.   , \u001b[1;36m0\u001b[0m.   , \u001b[1;36m0\u001b[0m.   , \u001b[1;36m0\u001b[0m.   , \u001b[1;36m0\u001b[0m.   , \u001b[1;36m0\u001b[0m.   , \u001b[1;36m0\u001b[0m.   ,\n",
       "        \u001b[1;36m1\u001b[0m.   , \u001b[1;36m0\u001b[0m.   , \u001b[1;36m0\u001b[0m.   , \u001b[1;36m0\u001b[0m.   , \u001b[1;36m0\u001b[0m.   , \u001b[1;36m0\u001b[0m.   , \u001b[1;36m0\u001b[0m.   \u001b[1m]\u001b[0m,\n",
       "       \u001b[1m[\u001b[0m\u001b[1;36m0\u001b[0m.   , \u001b[1;36m0\u001b[0m.   , \u001b[1;36m0\u001b[0m.   , \u001b[1;36m0\u001b[0m.   , \u001b[1;36m0\u001b[0m.   , \u001b[1;36m0\u001b[0m.   , \u001b[1;36m0\u001b[0m.   , \u001b[1;36m0\u001b[0m.   , \u001b[1;36m0\u001b[0m.   ,\n",
       "        \u001b[1;36m0\u001b[0m.   , \u001b[1;36m0\u001b[0m.   , \u001b[1;36m1\u001b[0m.   , \u001b[1;36m0\u001b[0m.   , \u001b[1;36m0\u001b[0m.   , \u001b[1;36m0\u001b[0m.   , \u001b[1;36m0\u001b[0m.   \u001b[1m]\u001b[0m,\n",
       "       \u001b[1m[\u001b[0m\u001b[1;36m0\u001b[0m.   , \u001b[1;36m0\u001b[0m.   , \u001b[1;36m0\u001b[0m.   , \u001b[1;36m0\u001b[0m.   , \u001b[1;36m0\u001b[0m.   , \u001b[1;36m0\u001b[0m.   , \u001b[1;36m0\u001b[0m.   , \u001b[1;36m0\u001b[0m.   , \u001b[1;36m0\u001b[0m.   ,\n",
       "        \u001b[1;36m0\u001b[0m.   , \u001b[1;36m0\u001b[0m.   , \u001b[1;36m0\u001b[0m.   , \u001b[1;36m1\u001b[0m.   , \u001b[1;36m0\u001b[0m.   , \u001b[1;36m0\u001b[0m.   , \u001b[1;36m0\u001b[0m.   \u001b[1m]\u001b[0m,\n",
       "       \u001b[1m[\u001b[0m\u001b[1;36m0\u001b[0m.   , \u001b[1;36m0\u001b[0m.   , \u001b[1;36m0\u001b[0m.   , \u001b[1;36m0\u001b[0m.   , \u001b[1;36m0\u001b[0m.   , \u001b[1;36m0\u001b[0m.   , \u001b[1;36m0\u001b[0m.   , \u001b[1;36m0\u001b[0m.   , \u001b[1;36m0\u001b[0m.   ,\n",
       "        \u001b[1;36m1\u001b[0m.   , \u001b[1;36m0\u001b[0m.   , \u001b[1;36m0\u001b[0m.   , \u001b[1;36m0\u001b[0m.   , \u001b[1;36m0\u001b[0m.   , \u001b[1;36m0\u001b[0m.   , \u001b[1;36m0\u001b[0m.   \u001b[1m]\u001b[0m,\n",
       "       \u001b[1m[\u001b[0m\u001b[1;36m0\u001b[0m.   , \u001b[1;36m0\u001b[0m.   , \u001b[1;36m0\u001b[0m.   , \u001b[1;36m0.333\u001b[0m, \u001b[1;36m0\u001b[0m.   , \u001b[1;36m0\u001b[0m.   , \u001b[1;36m0\u001b[0m.   , \u001b[1;36m0.333\u001b[0m, \u001b[1;36m0\u001b[0m.   ,\n",
       "        \u001b[1;36m0.333\u001b[0m, \u001b[1;36m0\u001b[0m.   , \u001b[1;36m0\u001b[0m.   , \u001b[1;36m0\u001b[0m.   , \u001b[1;36m0\u001b[0m.   , \u001b[1;36m0\u001b[0m.   , \u001b[1;36m0\u001b[0m.   \u001b[1m]\u001b[0m,\n",
       "       \u001b[1m[\u001b[0m\u001b[1;36m0.333\u001b[0m, \u001b[1;36m0\u001b[0m.   , \u001b[1;36m0.333\u001b[0m, \u001b[1;36m0.333\u001b[0m, \u001b[1;36m0\u001b[0m.   , \u001b[1;36m0\u001b[0m.   , \u001b[1;36m0\u001b[0m.   , \u001b[1;36m0\u001b[0m.   , \u001b[1;36m0\u001b[0m.   ,\n",
       "        \u001b[1;36m0\u001b[0m.   , \u001b[1;36m0\u001b[0m.   , \u001b[1;36m0\u001b[0m.   , \u001b[1;36m0\u001b[0m.   , \u001b[1;36m0\u001b[0m.   , \u001b[1;36m0\u001b[0m.   , \u001b[1;36m0\u001b[0m.   \u001b[1m]\u001b[0m\u001b[1m]\u001b[0m\u001b[1m)\u001b[0m"
      ]
     },
     "execution_count": 15,
     "metadata": {},
     "output_type": "execute_result"
    }
   ],
   "source": [
    "adj_w"
   ]
  },
  {
   "cell_type": "code",
   "execution_count": 16,
   "metadata": {},
   "outputs": [],
   "source": [
    "g_new = nx.DiGraph(adj_w)"
   ]
  },
  {
   "cell_type": "code",
   "execution_count": 18,
   "metadata": {},
   "outputs": [
    {
     "data": {
      "text/html": [
       "<pre style=\"white-space:pre;overflow-x:auto;line-height:normal;font-family:Menlo,'DejaVu Sans Mono',consolas,'Courier New',monospace\"></pre>\n"
      ],
      "text/plain": []
     },
     "metadata": {},
     "output_type": "display_data"
    },
    {
     "data": {
      "text/plain": [
       "\n",
       "\u001b[1m{\u001b[0m\n",
       "    \u001b[32m'directed'\u001b[0m: \u001b[3;92mTrue\u001b[0m,\n",
       "    \u001b[32m'multigraph'\u001b[0m: \u001b[3;91mFalse\u001b[0m,\n",
       "    \u001b[32m'graph'\u001b[0m: \u001b[1m{\u001b[0m\u001b[1m}\u001b[0m,\n",
       "    \u001b[32m'nodes'\u001b[0m: \u001b[1m[\u001b[0m\n",
       "        \u001b[1m{\u001b[0m\u001b[32m'id'\u001b[0m: \u001b[1;36m0\u001b[0m\u001b[1m}\u001b[0m,\n",
       "        \u001b[1m{\u001b[0m\u001b[32m'id'\u001b[0m: \u001b[1;36m1\u001b[0m\u001b[1m}\u001b[0m,\n",
       "        \u001b[1m{\u001b[0m\u001b[32m'id'\u001b[0m: \u001b[1;36m2\u001b[0m\u001b[1m}\u001b[0m,\n",
       "        \u001b[1m{\u001b[0m\u001b[32m'id'\u001b[0m: \u001b[1;36m3\u001b[0m\u001b[1m}\u001b[0m,\n",
       "        \u001b[1m{\u001b[0m\u001b[32m'id'\u001b[0m: \u001b[1;36m4\u001b[0m\u001b[1m}\u001b[0m,\n",
       "        \u001b[1m{\u001b[0m\u001b[32m'id'\u001b[0m: \u001b[1;36m5\u001b[0m\u001b[1m}\u001b[0m,\n",
       "        \u001b[1m{\u001b[0m\u001b[32m'id'\u001b[0m: \u001b[1;36m6\u001b[0m\u001b[1m}\u001b[0m,\n",
       "        \u001b[1m{\u001b[0m\u001b[32m'id'\u001b[0m: \u001b[1;36m7\u001b[0m\u001b[1m}\u001b[0m,\n",
       "        \u001b[1m{\u001b[0m\u001b[32m'id'\u001b[0m: \u001b[1;36m8\u001b[0m\u001b[1m}\u001b[0m,\n",
       "        \u001b[1m{\u001b[0m\u001b[32m'id'\u001b[0m: \u001b[1;36m9\u001b[0m\u001b[1m}\u001b[0m,\n",
       "        \u001b[1m{\u001b[0m\u001b[32m'id'\u001b[0m: \u001b[1;36m10\u001b[0m\u001b[1m}\u001b[0m,\n",
       "        \u001b[1m{\u001b[0m\u001b[32m'id'\u001b[0m: \u001b[1;36m11\u001b[0m\u001b[1m}\u001b[0m,\n",
       "        \u001b[1m{\u001b[0m\u001b[32m'id'\u001b[0m: \u001b[1;36m12\u001b[0m\u001b[1m}\u001b[0m,\n",
       "        \u001b[1m{\u001b[0m\u001b[32m'id'\u001b[0m: \u001b[1;36m13\u001b[0m\u001b[1m}\u001b[0m,\n",
       "        \u001b[1m{\u001b[0m\u001b[32m'id'\u001b[0m: \u001b[1;36m14\u001b[0m\u001b[1m}\u001b[0m,\n",
       "        \u001b[1m{\u001b[0m\u001b[32m'id'\u001b[0m: \u001b[1;36m15\u001b[0m\u001b[1m}\u001b[0m\n",
       "    \u001b[1m]\u001b[0m,\n",
       "    \u001b[32m'links'\u001b[0m: \u001b[1m[\u001b[0m\n",
       "        \u001b[1m{\u001b[0m\u001b[32m'weight'\u001b[0m: \u001b[1;36m0.5\u001b[0m, \u001b[32m'source'\u001b[0m: \u001b[1;36m0\u001b[0m, \u001b[32m'target'\u001b[0m: \u001b[1;36m4\u001b[0m\u001b[1m}\u001b[0m,\n",
       "        \u001b[1m{\u001b[0m\u001b[32m'weight'\u001b[0m: \u001b[1;36m0.5\u001b[0m, \u001b[32m'source'\u001b[0m: \u001b[1;36m0\u001b[0m, \u001b[32m'target'\u001b[0m: \u001b[1;36m12\u001b[0m\u001b[1m}\u001b[0m,\n",
       "        \u001b[1m{\u001b[0m\u001b[32m'weight'\u001b[0m: \u001b[1;36m0.333\u001b[0m, \u001b[32m'source'\u001b[0m: \u001b[1;36m1\u001b[0m, \u001b[32m'target'\u001b[0m: \u001b[1;36m3\u001b[0m\u001b[1m}\u001b[0m,\n",
       "        \u001b[1m{\u001b[0m\u001b[32m'weight'\u001b[0m: \u001b[1;36m0.333\u001b[0m, \u001b[32m'source'\u001b[0m: \u001b[1;36m1\u001b[0m, \u001b[32m'target'\u001b[0m: \u001b[1;36m12\u001b[0m\u001b[1m}\u001b[0m,\n",
       "        \u001b[1m{\u001b[0m\u001b[32m'weight'\u001b[0m: \u001b[1;36m0.333\u001b[0m, \u001b[32m'source'\u001b[0m: \u001b[1;36m1\u001b[0m, \u001b[32m'target'\u001b[0m: \u001b[1;36m13\u001b[0m\u001b[1m}\u001b[0m,\n",
       "        \u001b[1m{\u001b[0m\u001b[32m'weight'\u001b[0m: \u001b[1;36m1.0\u001b[0m, \u001b[32m'source'\u001b[0m: \u001b[1;36m2\u001b[0m, \u001b[32m'target'\u001b[0m: \u001b[1;36m11\u001b[0m\u001b[1m}\u001b[0m,\n",
       "        \u001b[1m{\u001b[0m\u001b[32m'weight'\u001b[0m: \u001b[1;36m0.5\u001b[0m, \u001b[32m'source'\u001b[0m: \u001b[1;36m3\u001b[0m, \u001b[32m'target'\u001b[0m: \u001b[1;36m1\u001b[0m\u001b[1m}\u001b[0m,\n",
       "        \u001b[1m{\u001b[0m\u001b[32m'weight'\u001b[0m: \u001b[1;36m0.5\u001b[0m, \u001b[32m'source'\u001b[0m: \u001b[1;36m3\u001b[0m, \u001b[32m'target'\u001b[0m: \u001b[1;36m14\u001b[0m\u001b[1m}\u001b[0m,\n",
       "        \u001b[1m{\u001b[0m\u001b[32m'weight'\u001b[0m: \u001b[1;36m1.0\u001b[0m, \u001b[32m'source'\u001b[0m: \u001b[1;36m4\u001b[0m, \u001b[32m'target'\u001b[0m: \u001b[1;36m3\u001b[0m\u001b[1m}\u001b[0m,\n",
       "        \u001b[1m{\u001b[0m\u001b[32m'weight'\u001b[0m: \u001b[1;36m1.0\u001b[0m, \u001b[32m'source'\u001b[0m: \u001b[1;36m5\u001b[0m, \u001b[32m'target'\u001b[0m: \u001b[1;36m8\u001b[0m\u001b[1m}\u001b[0m,\n",
       "        \u001b[1m{\u001b[0m\u001b[32m'weight'\u001b[0m: \u001b[1;36m1.0\u001b[0m, \u001b[32m'source'\u001b[0m: \u001b[1;36m6\u001b[0m, \u001b[32m'target'\u001b[0m: \u001b[1;36m6\u001b[0m\u001b[1m}\u001b[0m,\n",
       "        \u001b[1m{\u001b[0m\u001b[32m'weight'\u001b[0m: \u001b[1;36m1.0\u001b[0m, \u001b[32m'source'\u001b[0m: \u001b[1;36m7\u001b[0m, \u001b[32m'target'\u001b[0m: \u001b[1;36m7\u001b[0m\u001b[1m}\u001b[0m,\n",
       "        \u001b[1m{\u001b[0m\u001b[32m'weight'\u001b[0m: \u001b[1;36m1.0\u001b[0m, \u001b[32m'source'\u001b[0m: \u001b[1;36m8\u001b[0m, \u001b[32m'target'\u001b[0m: \u001b[1;36m15\u001b[0m\u001b[1m}\u001b[0m,\n",
       "        \u001b[1m{\u001b[0m\u001b[32m'weight'\u001b[0m: \u001b[1;36m0.5\u001b[0m, \u001b[32m'source'\u001b[0m: \u001b[1;36m9\u001b[0m, \u001b[32m'target'\u001b[0m: \u001b[1;36m4\u001b[0m\u001b[1m}\u001b[0m,\n",
       "        \u001b[1m{\u001b[0m\u001b[32m'weight'\u001b[0m: \u001b[1;36m0.5\u001b[0m, \u001b[32m'source'\u001b[0m: \u001b[1;36m9\u001b[0m, \u001b[32m'target'\u001b[0m: \u001b[1;36m13\u001b[0m\u001b[1m}\u001b[0m,\n",
       "        \u001b[1m{\u001b[0m\u001b[32m'weight'\u001b[0m: \u001b[1;36m1.0\u001b[0m, \u001b[32m'source'\u001b[0m: \u001b[1;36m10\u001b[0m, \u001b[32m'target'\u001b[0m: \u001b[1;36m9\u001b[0m\u001b[1m}\u001b[0m,\n",
       "        \u001b[1m{\u001b[0m\u001b[32m'weight'\u001b[0m: \u001b[1;36m1.0\u001b[0m, \u001b[32m'source'\u001b[0m: \u001b[1;36m11\u001b[0m, \u001b[32m'target'\u001b[0m: \u001b[1;36m11\u001b[0m\u001b[1m}\u001b[0m,\n",
       "        \u001b[1m{\u001b[0m\u001b[32m'weight'\u001b[0m: \u001b[1;36m1.0\u001b[0m, \u001b[32m'source'\u001b[0m: \u001b[1;36m12\u001b[0m, \u001b[32m'target'\u001b[0m: \u001b[1;36m12\u001b[0m\u001b[1m}\u001b[0m,\n",
       "        \u001b[1m{\u001b[0m\u001b[32m'weight'\u001b[0m: \u001b[1;36m1.0\u001b[0m, \u001b[32m'source'\u001b[0m: \u001b[1;36m13\u001b[0m, \u001b[32m'target'\u001b[0m: \u001b[1;36m9\u001b[0m\u001b[1m}\u001b[0m,\n",
       "        \u001b[1m{\u001b[0m\u001b[32m'weight'\u001b[0m: \u001b[1;36m0.333\u001b[0m, \u001b[32m'source'\u001b[0m: \u001b[1;36m14\u001b[0m, \u001b[32m'target'\u001b[0m: \u001b[1;36m3\u001b[0m\u001b[1m}\u001b[0m,\n",
       "        \u001b[1m{\u001b[0m\u001b[32m'weight'\u001b[0m: \u001b[1;36m0.333\u001b[0m, \u001b[32m'source'\u001b[0m: \u001b[1;36m14\u001b[0m, \u001b[32m'target'\u001b[0m: \u001b[1;36m7\u001b[0m\u001b[1m}\u001b[0m,\n",
       "        \u001b[1m{\u001b[0m\u001b[32m'weight'\u001b[0m: \u001b[1;36m0.333\u001b[0m, \u001b[32m'source'\u001b[0m: \u001b[1;36m14\u001b[0m, \u001b[32m'target'\u001b[0m: \u001b[1;36m9\u001b[0m\u001b[1m}\u001b[0m,\n",
       "        \u001b[1m{\u001b[0m\u001b[32m'weight'\u001b[0m: \u001b[1;36m0.333\u001b[0m, \u001b[32m'source'\u001b[0m: \u001b[1;36m15\u001b[0m, \u001b[32m'target'\u001b[0m: \u001b[1;36m0\u001b[0m\u001b[1m}\u001b[0m,\n",
       "        \u001b[1m{\u001b[0m\u001b[32m'weight'\u001b[0m: \u001b[1;36m0.333\u001b[0m, \u001b[32m'source'\u001b[0m: \u001b[1;36m15\u001b[0m, \u001b[32m'target'\u001b[0m: \u001b[1;36m2\u001b[0m\u001b[1m}\u001b[0m,\n",
       "        \u001b[1m{\u001b[0m\u001b[32m'weight'\u001b[0m: \u001b[1;36m0.333\u001b[0m, \u001b[32m'source'\u001b[0m: \u001b[1;36m15\u001b[0m, \u001b[32m'target'\u001b[0m: \u001b[1;36m3\u001b[0m\u001b[1m}\u001b[0m\n",
       "    \u001b[1m]\u001b[0m\n",
       "\u001b[1m}\u001b[0m"
      ]
     },
     "execution_count": 18,
     "metadata": {},
     "output_type": "execute_result"
    }
   ],
   "source": [
    "nx.node_link_data(g_new)"
   ]
  },
  {
   "cell_type": "code",
   "execution_count": null,
   "metadata": {},
   "outputs": [],
   "source": []
  }
 ],
 "metadata": {
  "kernelspec": {
   "display_name": "venv",
   "language": "python",
   "name": "python3"
  },
  "language_info": {
   "codemirror_mode": {
    "name": "ipython",
    "version": 3
   },
   "file_extension": ".py",
   "mimetype": "text/x-python",
   "name": "python",
   "nbconvert_exporter": "python",
   "pygments_lexer": "ipython3",
   "version": "3.11.11"
  }
 },
 "nbformat": 4,
 "nbformat_minor": 2
}
