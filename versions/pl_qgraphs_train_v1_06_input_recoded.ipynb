{
 "cells": [
  {
   "cell_type": "markdown",
   "id": "92426396-bb03-451f-89db-5f44073ebaeb",
   "metadata": {},
   "source": [
    "# QGraphs - A quantum model for digraph representation and navigation\n",
    "\n",
    "*This notebook explores creation and use of* ***QGgraphs (Quantum Digraphs)*** *in* ***Networkx+PennyLane+PyTorch**.*\n",
    "\n",
    "**By:** Jacob Cybulski<br>\n",
    "**Date:** August 2024<br>\n",
    "**Aims:** The goal of this notebook is to test some *Quantum Digraph (QGraphs)* features and functions.<br/>\n",
    "**Refs:**\n",
    "- Brownlee, J., 2019. <a href=\"https://machinelearningmastery.com/divergence-between-probability-distributions/\" target=\"_blank\">How to Calculate the KL Divergence for Machine Learning</a>. MachineLearningMastery.com.\n",
    "- <a href=\"https://en.wikipedia.org/wiki/Kullback%E2%80%93Leibler_divergence\" target=\"_blank\">Kullback–Leibler divergence</a>, Wikipedia.\n",
    "- <a href=\"https://en.wikipedia.org/wiki/Jensen%E2%80%93Shannon_divergence\" target=\"_blank\">Jensen-Shannon Divergence</a>, Wikipedia.\n",
    "- <a href=\"https://pytorch.org/docs/stable/generated/torch.nn.KLDivLoss.html\" target=\"_blank\">KLDivLoss</a>. PyTorch docs.\n",
    "\n",
    "**PennyLane technical refs:**\n",
    "- https://pennylane.ai/codebook/\n",
    "- https://docs.pennylane.ai/en/stable/index.html\n",
    "- https://docs.pennylane.ai/en/stable/introduction/interfaces.html (see refs to Fourier and fun fitting examples below)\n",
    "- https://docs.pennylane.ai/en/stable/code/api/pennylane.qnn.TorchLayer.html (see ref to an example below)\n",
    "- https://pytorch.org/docs/stable/optim.html\n",
    "- Example of circuit building: https://pennylane.ai/qml/demos/tutorial_learning_few_data/\n",
    "- Example of circuit building: https://pennylane.ai/qml/demos/tutorial_expressivity_fourier_series/\n",
    "- Example of training: https://pennylane.ai/qml/demos/function_fitting_qsp/\n",
    "- Example of creating Torch nn layer: https://pennylane.ai/qml/demos/tutorial_qnn_module_torch/\n",
    "\n",
    "**PyTorch technical refs:**\n",
    "- Initialise weights: https://stackoverflow.com/questions/49433936/how-do-i-initialize-weights-in-pytorch\n",
    "- First NN in PyTorch: https://machinelearningmastery.com/develop-your-first-neural-network-with-pytorch-step-by-step/\n",
    "- PyTorch training loop: https://machinelearningmastery.com/creating-a-training-loop-for-pytorch-models/"
   ]
  },
  {
   "cell_type": "markdown",
   "id": "e2c08495-279f-48a7-900b-0a0e781a6d3a",
   "metadata": {},
   "source": [
    "## What are QGraphs\n",
    "\n",
    "A *QGraph* is a weighted directed graph, which excludes parallel edges (in the same direction), but allowing loops. It defines a stochastic navigation between its verteces, where the probability of taking a particular edge from a given vertex is given by the edge weight.\n",
    "\n",
    "Formally, a qgraph $G$ is defined as a weighted digraph:\n",
    "\n",
    "$$G = \\{V, E, w\\},$$\n",
    "\n",
    "where $V = \\{v\\}$ is a set of digraph vertices, $E = \\{(v_s,v_t) : v_s, v_t \\in V\\}$ is a set of directional edges, and $|V|$ being the number of vertices in $V$.<br/>\n",
    "Function $w(V, V)\\rightarrow R$ assigns weights to all edges, such that:\n",
    "\n",
    "$$w(v_s, v_t) =\n",
    "\\left\\{\n",
    "\t\\begin{array}{ll}\n",
    "\t\tp(v_t | v_s)  & \\forall_{v_s, v_t \\in V,\\;(v_s, v_t) \\in E}\\\\\n",
    "\t\t0 & \\forall_{v_s, v_t \\in V,\\;(v_s, v_t) \\notin E}\n",
    "\t\\end{array}\n",
    "\\right.\n",
    "$$\n",
    "\n",
    "where $p(v_t | v_s)$ is the probability of navigating over the edge $(v_s, v_t)$ when arrived at the source vertex $v_s$ to its target $v_t$ (including the self), and:\n",
    "\n",
    "$$\\forall_{(v_s, v_t) \\in E}\\: \\sum_{v_t} w(v_s, v_t) = 1.$$\n",
    "\n",
    "This means that every digraph vertex must have at least one outgoing link.\n",
    "\n",
    "An arbitrary weighted digraph $G = \\{V, E, w(V, V)\\}$ can be expanded to become a QGraph $G^{'} = \\{V^{'}, E^{'}, w^{'}(V^{'}, V^{'})\\}$ by adding loops to all verteces $v$ with outdegree 0, and rescaling weights to add up to 1. Now:\n",
    "\n",
    "$$\\forall_{v \\in V}\\; v \\in V^{'} \\land \\forall_{e \\in E}\\; e \\in E^{'}$$\n",
    "$$\\forall_{v_s \\in V}\\;(\\forall_{v_t \\in V}\\;(v_s, v_t) \\notin E) \\Longrightarrow (v_s, v_s) \\in E^{'} \\land w^{'}(v_s, v_s) = 1$$\n",
    "$$\\forall_{(v_s, v_t) \\in E}\\; w^{'}(v_s, v_t) = \\frac{w(v_s, v_t)}{\\sum_{(v_s, v_i) \\in E}\\; w(v_s, v_i)}$$\n",
    "\n",
    "## PennyLane Implementation\n",
    "\n",
    "A QGraph $G = \\{V, E, w\\}$, with $v \\in V$ as the vertex unique numeric identifier, represents a parameterised function $f_\\theta(V) \\rightarrow V$,\n",
    "which can be realised as a quantum circuit $U(v, \\theta)$ measured projectively with observable $\\mathcal{M}$:\n",
    "\n",
    "$$\n",
    "\\begin{gather}\n",
    "    f_\\theta(v) = tr[ \\mathcal{M} U(v, \\theta)^\\dagger \\vert 0 \\rangle \\langle 0 \\vert U(v, \\theta) ],\\quad and\\\\\n",
    "    U(v, \\theta) = A(\\theta)S(v).\n",
    "\\end{gather}\n",
    "$$\n",
    "\n",
    "$S(v)$ is a feature map and $A(\\theta)$ an ansatz with trainable parameters $\\theta = (\\theta_0, \\theta_1, ..., \\theta_n)$.\n",
    "The ansatz can be trained on the graph edges $e = (v_s, v_t) \\in E$ and their weights $w(v_s, v_t)$, such that $v_s$ would be passed as the input to $U(v, \\theta)$, which is subsequently executed repeatedly to produce a distribution of possible outcomes $v_t$, each approximating the probability $p(v_t|v_s)$ aimed to approach the value of its edge weight $w(v_s, v_t)$.\n",
    "\n",
    "The circuit $U(v, \\theta)$ training can be facilitated by running $U(v_s, \\theta)$ repeatedly for each vertex $v_s$ and measuring the difference between two probability distributions of possible paths from vertex $v_s$, i.e. the observed probability distribution $P(v_s) = \\{p(v_t | v_s) : \\forall_{v_t \\in V}\\}$ and the expected distribution $W(v_s) = \\{w(v_s, v_t) : \\forall_{e=(v_s, v_t) \\in E}\\}$. \n",
    "The standard loss function that could support the model training is $L1$, which would measure the distance between pairs of probability distributions $W(v_s)$ and $P(v_s)$. As the size of $P(v_s)$ distribution cannot be predicted in advance, hence the computational complexity of the $L1(W(v_s), P(v_s))$ measurement would be $O({\\vert V \\vert}^2)$.\n",
    "The entire cost would then be measured as $MAE(W, P)$ with the complexity of $O({\\vert V \\vert}^3)$.\n",
    "\n",
    "A more suitable loss function could be *Kullback-Leibler Divergence*, stated as a function $KL(W(v_s) || P(v_s))$ representing the magnitude of our \"surprise\" when the model adopts the observed distribution $P(v_s)$ instead of the actual distribution $W(v_s)$. The $KL$ loss function for the vertex $v_s$ can be defined as follows (adapted from Brownlee 2019):\n",
    "\n",
    "$$KL(W(v_s) || P(v_s)) = \\sum_{(v_s, v_t) \\in E} w(v_s, v_t) * log(w(v_s, v_t) / p(v_t | v_s))$$\n",
    "\n",
    "Therefore, the cost (average loss) of differences between observed and expected navigations for all digraph vertices is:\n",
    "\n",
    "$$\n",
    "\\begin{array}{ll}\n",
    "    KL(W || P) \n",
    "    &=&\\frac{1}{|V|}\\sum_{v_s \\in V}\\;KL(W(v_s) || P(v_s))\\\\\n",
    "    &=&\\frac{1}{|V|}\\sum_{v_s \\in V}\\sum_{(v_s, v_t) \\in E}\\; w(v_s, v_t) * log(w(v_s, v_t) / p(v_t | v_s)) \\\\\n",
    "    &=&\\frac{1}{|V|}\\sum_{(v_s, v_t) \\in E}\\; w(v_s, v_t) * log(w(v_s, v_t) / p(v_t | v_s))\n",
    "\\end{array}\n",
    "$$\n",
    "\n",
    "For the $KL$ function to be computable, we only consider pairs of vertices $(v_s, v_t)$ that have non-zero weights $w(v_s, v_t)$ and non-zero probability $p(v_t | v_s)$. \n",
    "Also note that $KL$ ignores those vertex pairs which emerge as \"probably navigable\" during model training, but not actually connected by an edge, meaning their pairwise weight is zero. \n",
    "This leads to the more selective cost calculation, with its complexity to be $O(|V||E|)$, with the upper bound of $O(|V|^3)$, however significantly lower for sparse graphs.\n",
    "\n",
    "*Kullback-Leibler Divergence* is not symmetrical, i.e. $KL(W || P) \\neq KL(P || W)$, and tends to generate very large negative values. Therefore, a related *Jensen-Shannon Divergence* could be used as a replacement. $JS$ loss function can be defined as follows (adapted from Brownlee 2019):\n",
    "\n",
    "$$\n",
    "\\begin{array}{ll}\n",
    "    &&\\text{the loss function is:}\\\\\n",
    "    \\\\\n",
    "    &&for\\; M(v_s) = 0.5\\; (W(v_s) + P(v_s)),\\\\\n",
    "    JS(W(v_s) || P(v_s)) \n",
    "    &=&0.5 * KL(W(v_s) || M(v_s)) + 0.5 * KL(P(v_s) || M(v_s)),\\\\\n",
    "    \\\\\n",
    "    &&\\text{and the cost (average loss) is:}\\\\\n",
    "    \\\\\n",
    "    &&for\\; M = 0.5\\; (W + P),\\\\\n",
    "    JS(W || P) \n",
    "    &=&\\frac{1}{|V|}\\sum_{v_s \\in V}\\;JS(W(v_s) || P(v_s))\\\\\n",
    "    &=&0.5 * \\frac{1}{|V|}\\sum_{v_s \\in V}\\;(KL(W(v_s) || M(v_s)) + KL(P(v_s) || M(v_s))) \\\\\n",
    "    &=&0.5 * (\\frac{1}{|V|}\\sum_{v_s \\in V}\\;KL(W(v_s) || M(v_s)) + \\frac{1}{|V|}\\sum_{v_s \\in V}\\;KL(P(v_s) || M(v_s))) \\\\\n",
    "    &=&0.5 * (KL(W || M) + KL(P || M))\n",
    "\\end{array}\n",
    "$$\n",
    "\n",
    "As noted by Brownlee (2019), when compared with KL divergence, $JS(W(v_s) || P(v_s))$, and consequently $JS(W || P)$, is a more useful measure for model training - it is smooth and normalized, and, when using the base-2 logarithm, its scores are in the range from 0 (identical) to 1 (maximally different). Its computational complexity is also $O(|V||E|)$.\n",
    "\n",
    "Note that in PyTorch, the class <a href=\"https://pytorch.org/docs/stable/generated/torch.nn.KLDivLoss.html\" target=\"_blank\">KLDivLoss</a> (see examples) defines the KL function, which takes as its arguments *input* (P), which is the result produced by a model (e.g. NN), and a *target* (W) which defines observations drawn from the data."
   ]
  },
  {
   "cell_type": "code",
   "execution_count": 1,
   "id": "8b67dda8-203d-4d60-a13c-0e043c35e1c2",
   "metadata": {},
   "outputs": [
    {
     "data": {
      "text/plain": [
       "['/home/jacob/miniconda3/envs/pl-cuda12/lib/python311.zip',\n",
       " '/home/jacob/miniconda3/envs/pl-cuda12/lib/python3.11',\n",
       " '/home/jacob/miniconda3/envs/pl-cuda12/lib/python3.11/lib-dynload',\n",
       " '',\n",
       " '/home/jacob/miniconda3/envs/pl-cuda12/lib/python3.11/site-packages',\n",
       " '.',\n",
       " '..']"
      ]
     },
     "execution_count": 1,
     "metadata": {},
     "output_type": "execute_result"
    }
   ],
   "source": [
    "import sys\n",
    "sys.path.append('.')\n",
    "sys.path.append('..')\n",
    "sys.path"
   ]
  },
  {
   "cell_type": "code",
   "execution_count": 2,
   "id": "9fb963a7-124e-4f40-a7ae-916d3783b8b3",
   "metadata": {},
   "outputs": [],
   "source": [
    "### General libraries\n",
    "\n",
    "import matplotlib.pyplot as plt\n",
    "import matplotlib.patches as pltpat\n",
    "import pylab\n",
    "import copy\n",
    "import math\n",
    "from IPython.display import clear_output\n",
    "\n",
    "from matplotlib import set_loglevel\n",
    "set_loglevel(\"error\")\n",
    "\n",
    "%matplotlib inline"
   ]
  },
  {
   "cell_type": "code",
   "execution_count": 3,
   "id": "ca611743-ef5b-49d4-80ec-bf1ee58ebbaf",
   "metadata": {},
   "outputs": [],
   "source": [
    "### PennyLane and Torch\n",
    "\n",
    "import pennylane as qml\n",
    "from pennylane import numpy as np\n",
    "import jax\n",
    "import jax.numpy as jnp\n",
    "\n",
    "# Pytorch imports\n",
    "import torch\n",
    "from torch import nn, tensor, optim\n",
    "import torchvision\n",
    "import torchvision.transforms as transforms\n",
    "from torch.utils.data import Dataset, DataLoader\n",
    "from sklearn.preprocessing import MinMaxScaler\n",
    "\n",
    "# Utils import\n",
    "from utils.Circuits import *\n",
    "from utils.Charts import *\n",
    "from utils.Digraphs import *\n",
    "\n",
    "jax.config.update(\"jax_enable_x64\", True)"
   ]
  },
  {
   "cell_type": "markdown",
   "id": "ea5193dd-0bbd-4fd5-a58c-ca9aa4e493f5",
   "metadata": {},
   "source": [
    "## Define constants"
   ]
  },
  {
   "cell_type": "code",
   "execution_count": 4,
   "id": "dbb3497f-630f-45e0-914c-c577facf9640",
   "metadata": {},
   "outputs": [],
   "source": [
    "n_data = 3\n",
    "n_extra = 1\n",
    "n_layers = 3\n",
    "rot = 'Ry'\n",
    "shots = 1000 # 1000\n",
    "seed = 2024\n",
    "epochs = 4000\n",
    "mode = 'hybrid'\n",
    "scaler = np.pi\n",
    "\n",
    "n_wires = n_data+n_extra\n",
    "wires = list(range(n_wires))"
   ]
  },
  {
   "cell_type": "markdown",
   "id": "3b4126c4-a145-49dd-ac51-bd28df8caed2",
   "metadata": {},
   "source": [
    "### Define devices"
   ]
  },
  {
   "cell_type": "code",
   "execution_count": 5,
   "id": "99c15fbf-2230-4eb1-8475-cac84eecb18c",
   "metadata": {},
   "outputs": [
    {
     "data": {
      "text/plain": [
       "('lightning.qubit', 'cpu')"
      ]
     },
     "execution_count": 5,
     "metadata": {},
     "output_type": "execute_result"
    }
   ],
   "source": [
    "### Find what devices are available\n",
    "\n",
    "# Quantum simulator\n",
    "sim = 'lightning.qubit' # default.qubit lightning.qubit lightning.gpu\n",
    "\n",
    "# Enable CUDA device if available\n",
    "torch_device = torch.device(\"cuda:0\" if torch.cuda.is_available() else \"cpu\")\n",
    "torch_device = \"cpu\"\n",
    "(sim, torch_device)"
   ]
  },
  {
   "cell_type": "markdown",
   "id": "58f05aaa-5ea4-4614-a99e-3d2e30fbbc51",
   "metadata": {},
   "source": [
    "### Jensen-Shannon Divergence\n",
    "\n",
    "Refs: \n",
    "- Amin Jun + Renly Hou, <a href=\"https://discuss.pytorch.org/t/jensen-shannon-divergence/2626/9\" target=\"_blank\">JSD implementation</a>, pytorch.org\n",
    "- johnball, <a href=\"https://stats.stackexchange.com/questions/303735/jensen-shannon-divergence-for-multiple-probability-distributions\">Multiple JSD implementation</a>, stackexchange.com\n"
   ]
  },
  {
   "cell_type": "code",
   "execution_count": 6,
   "id": "1f65595a-d734-48dd-884a-980b17de2f0e",
   "metadata": {},
   "outputs": [],
   "source": [
    "### KL and JSD divergence metrics\n",
    "#   All metrics arguments follow the order according to the PyTorch convention\n",
    "#   - P: obtained output\n",
    "#   - W: expected targets\n",
    "class div_metrics(nn.Module):\n",
    "    def __init__(self):\n",
    "        super(div_metrics, self).__init__()\n",
    "\n",
    "    # KL cost function, assumes equal shapes of W and P\n",
    "    # Removes all (w, p) pairs which have zeros\n",
    "    # - P: obtained output\n",
    "    # - W: expected targets\n",
    "    def kl(self, P: torch.tensor, W: torch.tensor):\n",
    "        vn = W.shape[0]\n",
    "        W, P = torch.flatten(W), torch.flatten(P)\n",
    "        kl = sum([w * math.log2(w / p) for (w, p) in zip(W, P) if (w != 0) and (p != 0)]) / vn\n",
    "        return kl\n",
    "\n",
    "    # JSD cost function, assumes equal shapes of W and P\n",
    "    # Removes all (w, p) pairs which have zeros\n",
    "    # - P: obtained output\n",
    "    # - W: expected targets\n",
    "    def jsd(self, P: torch.tensor, W: torch.tensor):\n",
    "        M = 0.5 * (W + P)\n",
    "        jsd = 0.5 * (self.kl(M, W) + self.kl(M, P))\n",
    "        return jsd\n",
    "\n",
    "    # JSD loss function (so a single vertex data)\n",
    "    def jsd_single_loss(self, outputs: torch.tensor, targets: torch.tensor):\n",
    "        self.jsd(torch.tensor([outputs]), torch.tensor([targets]))"
   ]
  },
  {
   "cell_type": "code",
   "execution_count": 7,
   "id": "406cfa1f-ce15-4830-81b8-35579358e4fa",
   "metadata": {},
   "outputs": [
    {
     "name": "stdout",
     "output_type": "stream",
     "text": [
      "kl(d1, d1) = 0.0\n",
      "kl(d1, d2) = 0.21699248254299164\n",
      "kl(d2, d1) = 0.04150373116135597\n",
      "kl(d1, d3) = 0.6264662742614746\n",
      "kl(d3, d1) = -0.2839849889278412\n",
      "\n",
      "jsd(d1, d1) = 0.0\n",
      "jsd(d1, d2) = 0.13121622800827026\n",
      "jsd(d2, d1) = 0.13121622800827026\n",
      "jsd(d1, d3) = 0.5667180418968201\n",
      "jsd(d3, d1) = 0.5667180418968201\n",
      "jsd(d4, d5) = 1.0\n"
     ]
    }
   ],
   "source": [
    "### Testing KL and JSD metrics\n",
    "#   Assumes data to be multiple vertices\n",
    "\n",
    "d1 = torch.Tensor([[0.1, 0.3, 0.1, 0.4, 0.1], [0.0, 0.0, 0.3, 0.5, 0.1]])\n",
    "d2 = torch.Tensor([[0.0, 0.2, 0.3, 0.3, 0.2], [0.1, 0.1, 0.3, 0.5, 0.0]])\n",
    "d3 = torch.Tensor([[0.0, 0.0, 0.0, 0.9, 0.1], [0.4, 0.4, 0.0, 0.0, 0.2]])\n",
    "d4 = torch.Tensor([[0.0, 1.0], [1.0, 0.0]])\n",
    "d5 = torch.Tensor([[1.0, 0.0], [0.0, 1.0]])\n",
    "\n",
    "m = div_metrics()\n",
    "print(f'kl(d1, d1) = {m.kl(d1, d1)}')\n",
    "print(f'kl(d1, d2) = {m.kl(d1, d2)}')\n",
    "print(f'kl(d2, d1) = {m.kl(d2, d1)}')\n",
    "print(f'kl(d1, d3) = {m.kl(d1, d3)}')\n",
    "print(f'kl(d3, d1) = {m.kl(d3, d1)}\\n')\n",
    "\n",
    "print(f'jsd(d1, d1) = {m.jsd(d1, d1)}')\n",
    "print(f'jsd(d1, d2) = {m.jsd(d1, d2)}')\n",
    "print(f'jsd(d2, d1) = {m.jsd(d2, d1)}')\n",
    "print(f'jsd(d1, d3) = {m.jsd(d1, d3)}')\n",
    "print(f'jsd(d3, d1) = {m.jsd(d3, d1)}')\n",
    "print(f'jsd(d4, d5) = {m.jsd(d5, d4)}')"
   ]
  },
  {
   "cell_type": "markdown",
   "id": "7da0e42d-d554-4ebd-9acb-08b4060bd062",
   "metadata": {},
   "source": [
    "### Utilities"
   ]
  },
  {
   "cell_type": "code",
   "execution_count": 8,
   "id": "04e309a5-47b7-4ec0-8609-2fa737eabc25",
   "metadata": {},
   "outputs": [],
   "source": [
    "### Counts the number of pytorch model parameters\n",
    "def count_params(model):\n",
    "    return sum(p.numel() for p in model.parameters() if p.requires_grad)\n",
    "\n",
    "### Gets all pytorch parameters\n",
    "def get_param_vals(model):\n",
    "    params = []\n",
    "    for param in model.parameters():\n",
    "        params.append(param.view(-1))\n",
    "    params = torch.cat(params)\n",
    "    params = params.cpu().detach().flatten() # [0]\n",
    "    return params.numpy()"
   ]
  },
  {
   "cell_type": "code",
   "execution_count": 9,
   "id": "a2eee29a-6e15-4926-a279-164a4762bd6b",
   "metadata": {},
   "outputs": [
    {
     "name": "stdout",
     "output_type": "stream",
     "text": [
      "bint=0b0001101001 > list=[0 1 1 0 1 0 0 1] > bint=0b0001101001\n",
      "bint=0b0001011001 > list=[0 1 0 1 1 0 0 1] > bint=0b0001011001\n"
     ]
    }
   ],
   "source": [
    "##### Bit to list translation for data entry and state interpretation\n",
    "#     Note: PennyLane interprets qubits state in reverse order than Qiskit\n",
    "#           These functions are a copy of functions in Circuits.py\n",
    "\n",
    "### Transform int number to a list of bits\n",
    "def bin_int_to_list(a, n_bits):\n",
    "    a_list = [int(i) for i in f'{a:0{n_bits}b}']\n",
    "    # a_list.reverse()\n",
    "    return np.array(a_list)\n",
    "\n",
    "### Transform a list of bits to an int number\n",
    "def bin_list_to_int(bin_list):\n",
    "    b = list(bin_list)\n",
    "    # b.reverse()\n",
    "    return int(\"\".join(map(str, b)), base=2)\n",
    "\n",
    "a = 0b01101001; a_list = bin_int_to_list(a, 8); aint = bin_list_to_int(a_list)\n",
    "b = 0b01011001; b_list = bin_int_to_list(b, 8); bint = bin_list_to_int(b_list)\n",
    "n_bits = 10\n",
    "\n",
    "print(f'bint=0b{a:>0{n_bits}b} > list={a_list} > bint=0b{aint:>0{n_bits}b}')\n",
    "print(f'bint=0b{b:>0{n_bits}b} > list={b_list} > bint=0b{bint:>0{n_bits}b}')"
   ]
  },
  {
   "cell_type": "code",
   "execution_count": 10,
   "id": "78d380f8-dce8-4597-8df2-d4f70ee36d38",
   "metadata": {},
   "outputs": [
    {
     "name": "stderr",
     "output_type": "stream",
     "text": [
      "/tmp/ipykernel_226410/134352511.py:3: UserWarning: Creating a tensor from a list of numpy.ndarrays is extremely slow. Please consider converting the list to a single numpy.ndarray with numpy.array() before converting to a tensor. (Triggered internally at ../torch/csrc/utils/tensor_new.cpp:274.)\n",
      "  return torch.tensor(bin_list_list, dtype=torch.double).to(torch_device)\n"
     ]
    },
    {
     "data": {
      "text/plain": [
       "tensor([[0., 0., 0., 1.],\n",
       "        [0., 0., 1., 1.],\n",
       "        [0., 1., 1., 0.],\n",
       "        [0., 1., 1., 1.]], dtype=torch.float64)"
      ]
     },
     "execution_count": 10,
     "metadata": {},
     "output_type": "execute_result"
    }
   ],
   "source": [
    "def nums_to_bin_tensor(num_list, n_data, torch_device='cpu'):\n",
    "    bin_list_list = [bin_int_to_list(n, n_data) for n in num_list]\n",
    "    return torch.tensor(bin_list_list, dtype=torch.double).to(torch_device)\n",
    "\n",
    "nums_to_bin_tensor([1, 3, 6, 7], 4)"
   ]
  },
  {
   "cell_type": "code",
   "execution_count": 11,
   "id": "b9fd2b89-619f-424d-b567-4d36b9a4991d",
   "metadata": {},
   "outputs": [
    {
     "name": "stdout",
     "output_type": "stream",
     "text": [
      "PDist: [(0, 0.005), (1, 0.06), (2, 0.1), (3, 0.2), (4, 0.01), (5, 0.5), (6, 0), (7, 0.09), (8, 0.03), (9, 0.005)]\n",
      "\t(sum=1.0, threshold=0.01)\n",
      "\n"
     ]
    },
    {
     "data": {
      "image/png": "[encoded data removed]",
      "text/plain": [
       "<Figure size 518.4x388.8 with 1 Axes>"
      ]
     },
     "metadata": {},
     "output_type": "display_data"
    }
   ],
   "source": [
    "### Plot probability distribution\n",
    "#   probs: list or tensor\n",
    "#   thres: all probs less that threshold will not be plotted\n",
    "def plot_hist(probs, scale=None, figsize=(8, 6), dpi=72, th=0):\n",
    "\n",
    "    # Prepare data\n",
    "    n_probs = len(probs)\n",
    "    n_digits = len(bin_int_to_list(n_probs, 1)) # 1 means as many digits as required\n",
    "    labels = [f'{n:0{n_digits}b}' for n in np.arange(n_probs)]\n",
    "\n",
    "    # Filter out the prob values below threshold\n",
    "    pairs = [(p, l) for (p, l) in zip(probs, labels) if p >= th]\n",
    "    probs = [p for (p, l) in pairs]\n",
    "    labels = [l for (p, l) in pairs]\n",
    "\n",
    "    # Plot the results\n",
    "    fig, ax=plt.subplots(figsize=figsize, dpi=dpi)\n",
    "    ax.bar(labels, probs)\n",
    "    ax.set_title('Measurement Outcomes')\n",
    "    plt.xlabel('Results')\n",
    "    plt.ylabel('Probability')\n",
    "    plt.xticks(rotation=60)\n",
    "    if scale is not None:\n",
    "        dpi = fig.get_dpi()\n",
    "        fig.set_dpi(dpi*scale)\n",
    "    plt.show()\n",
    "\n",
    "thres = 0.01\n",
    "pdist = [0.005, 0.06, 0.1, 0.2, 0.01, 0.5, 0, 0.09, 0.03, 0.005]\n",
    "print(f'PDist: {[(i, pdist[i]) for i in range(len(pdist))]}\\n\\t'+\\\n",
    "      f'(sum={sum(pdist)}, threshold={thres})\\n')\n",
    "\n",
    "plot_hist(pdist, scale=0.9, th=thres)"
   ]
  },
  {
   "cell_type": "markdown",
   "id": "289b5b5e-c77a-42dc-a1c4-757973956fd8",
   "metadata": {},
   "source": [
    "### Prepare data for QGraph training"
   ]
  },
  {
   "cell_type": "code",
   "execution_count": 12,
   "id": "2dd70539-b902-448f-bb15-da8f8281bdff",
   "metadata": {},
   "outputs": [
    {
     "name": "stdout",
     "output_type": "stream",
     "text": [
      "Loaded graph from file: sample_graphs/digraph_8_0.25_v6.json\n"
     ]
    },
    {
     "data": {
      "text/plain": [
       "None"
      ]
     },
     "metadata": {},
     "output_type": "display_data"
    },
    {
     "data": {
      "image/png": "[encoded data removed]",
      "text/plain": [
       "<Figure size 640x480 with 1 Axes>"
      ]
     },
     "metadata": {},
     "output_type": "display_data"
    }
   ],
   "source": [
    "### Get a sample graph\n",
    "g_path = 'sample_graphs/digraph_8_0.25_v6.json'\n",
    "G = load_digraph(g_path)\n",
    "print(f'Loaded graph from file: {g_path}')\n",
    "display(draw_weighted_digraph(G, 'weight', ax=None))"
   ]
  },
  {
   "cell_type": "code",
   "execution_count": 13,
   "id": "bea77ce7-d75c-4984-a26d-0884cc7a2876",
   "metadata": {},
   "outputs": [
    {
     "data": {
      "text/plain": [
       "{'directed': True,\n",
       " 'multigraph': False,\n",
       " 'graph': {},\n",
       " 'nodes': [{'id': 0},\n",
       "  {'id': 1},\n",
       "  {'id': 2},\n",
       "  {'id': 3},\n",
       "  {'id': 4},\n",
       "  {'id': 5},\n",
       "  {'id': 6},\n",
       "  {'id': 7}],\n",
       " 'links': [{'weight': 0.4944293585610806, 'source': 0, 'target': 1},\n",
       "  {'weight': 0.5055706414389194, 'source': 0, 'target': 4},\n",
       "  {'weight': 1.0, 'source': 1, 'target': 1},\n",
       "  {'weight': 1.0, 'source': 2, 'target': 2},\n",
       "  {'weight': 1.0, 'source': 3, 'target': 2},\n",
       "  {'weight': 1.0, 'source': 4, 'target': 2},\n",
       "  {'weight': 0.6475441003604834, 'source': 5, 'target': 1},\n",
       "  {'weight': 0.3524558996395167, 'source': 5, 'target': 6},\n",
       "  {'weight': 0.8015920962589961, 'source': 6, 'target': 3},\n",
       "  {'weight': 0.1984079037410039, 'source': 6, 'target': 5},\n",
       "  {'weight': 0.8129708714007062, 'source': 7, 'target': 2},\n",
       "  {'weight': 0.18702912859929377, 'source': 7, 'target': 6}]}"
      ]
     },
     "execution_count": 13,
     "metadata": {},
     "output_type": "execute_result"
    }
   ],
   "source": [
    "# nx.node_link_data(G)\n",
    "digraph_details(G)"
   ]
  },
  {
   "cell_type": "code",
   "execution_count": 14,
   "id": "d56e78ae-4e5d-4357-ac41-c65859814572",
   "metadata": {},
   "outputs": [
    {
     "data": {
      "text/plain": [
       "array([[0.   , 0.494, 0.   , 0.   , 0.506, 0.   , 0.   , 0.   ],\n",
       "       [0.   , 1.   , 0.   , 0.   , 0.   , 0.   , 0.   , 0.   ],\n",
       "       [0.   , 0.   , 1.   , 0.   , 0.   , 0.   , 0.   , 0.   ],\n",
       "       [0.   , 0.   , 1.   , 0.   , 0.   , 0.   , 0.   , 0.   ],\n",
       "       [0.   , 0.   , 1.   , 0.   , 0.   , 0.   , 0.   , 0.   ],\n",
       "       [0.   , 0.648, 0.   , 0.   , 0.   , 0.   , 0.352, 0.   ],\n",
       "       [0.   , 0.   , 0.   , 0.802, 0.   , 0.198, 0.   , 0.   ],\n",
       "       [0.   , 0.   , 0.813, 0.   , 0.   , 0.   , 0.187, 0.   ]])"
      ]
     },
     "execution_count": 14,
     "metadata": {},
     "output_type": "execute_result"
    }
   ],
   "source": [
    "### Convert the graph to its adjacency matrix\n",
    "adj_mat = digraph_to_adjmat(G)\n",
    "np.round(adj_mat, 3)"
   ]
  },
  {
   "cell_type": "code",
   "execution_count": 15,
   "id": "2aa46f86-607d-4d21-9d70-07abadf095e3",
   "metadata": {},
   "outputs": [
    {
     "data": {
      "text/plain": [
       "(tensor([[0., 0., 0.],\n",
       "         [0., 0., 1.],\n",
       "         [0., 1., 0.],\n",
       "         [0., 1., 1.],\n",
       "         [1., 0., 0.],\n",
       "         [1., 0., 1.],\n",
       "         [1., 1., 0.],\n",
       "         [1., 1., 1.]], dtype=torch.float64),\n",
       " tensor([[0.0000, 0.4944, 0.0000, 0.0000, 0.5056, 0.0000, 0.0000, 0.0000],\n",
       "         [0.0000, 1.0000, 0.0000, 0.0000, 0.0000, 0.0000, 0.0000, 0.0000],\n",
       "         [0.0000, 0.0000, 1.0000, 0.0000, 0.0000, 0.0000, 0.0000, 0.0000],\n",
       "         [0.0000, 0.0000, 1.0000, 0.0000, 0.0000, 0.0000, 0.0000, 0.0000],\n",
       "         [0.0000, 0.0000, 1.0000, 0.0000, 0.0000, 0.0000, 0.0000, 0.0000],\n",
       "         [0.0000, 0.6475, 0.0000, 0.0000, 0.0000, 0.0000, 0.3525, 0.0000],\n",
       "         [0.0000, 0.0000, 0.0000, 0.8016, 0.0000, 0.1984, 0.0000, 0.0000],\n",
       "         [0.0000, 0.0000, 0.8130, 0.0000, 0.0000, 0.0000, 0.1870, 0.0000]],\n",
       "        dtype=torch.float64))"
      ]
     },
     "execution_count": 15,
     "metadata": {},
     "output_type": "execute_result"
    }
   ],
   "source": [
    "### Prepare X and Y vectors for training\n",
    "X = nums_to_bin_tensor(range(adj_mat.shape[0]), n_data, torch_device=torch_device)\n",
    "Y = torch.tensor(adj_mat, dtype=torch.double)\n",
    "X,Y"
   ]
  },
  {
   "cell_type": "markdown",
   "id": "54bc75ca-bc4a-4266-a4c6-f82e7ffe4cd9",
   "metadata": {},
   "source": [
    "### Create and Test a QGraph circuit\n",
    "\n",
    "The qgraph circuit will be a simple QNN. A few different approaches will be tested as determined by the input encoding.\n",
    "- Simple encoding, with each vertex mapped into a qubit - requires $|V|$ qubits\n",
    "- Basis encoding, with each vertex number mapped into a binary qubit representation - requires $log_2(|V|)$ qubits"
   ]
  },
  {
   "cell_type": "code",
   "execution_count": 16,
   "id": "43a8b140-e2ed-4cc1-8063-8bfd5ffbf53f",
   "metadata": {},
   "outputs": [],
   "source": [
    "### QGraph wrapper with a static data structure and variant input and weights only\n",
    "#   wires: circuit wires\n",
    "#   n_data: number of data wires to be reserved\n",
    "#   n_extra: number of extra wires to be used in training\n",
    "#   n_layers: number of entangling layers to be produced\n",
    "#   rot: rotation type, either 'Ry' or 'Rxyz'\n",
    "#   scaler: scaler to be applied to the inputs\n",
    "def qgraph_basis(wires, n_data, n_extra, n_layers=1, rot='Ry', scaler=np.pi):\n",
    "    \n",
    "    def _qgraph_circ(inputs, weights):\n",
    "        # inputs: A single number, being a scaled (down) vertex id\n",
    "        #         Note that when a NN generates inputs, its results will be in range [-1..1]\n",
    "        # output: probability distribution of applying the circuit shot number of times\n",
    "        nonlocal wires, n_data, n_extra, n_layers, rot, scaler\n",
    "        \n",
    "        n_learn = n_data + n_extra\n",
    "        data_wires = wires[0:n_data]\n",
    "        learn_wires = wires[0:n_learn]\n",
    "        scaled_inputs = torch.mul(inputs, scaler)\n",
    "        qml.AngleEmbedding(scaled_inputs, wires=data_wires)\n",
    "        \n",
    "        if rot == 'Ry':\n",
    "            qml.BasicEntanglerLayers(weights, rotation=qml.RY, wires=learn_wires)\n",
    "        elif rot == 'Rxyz':\n",
    "            qml.StronglyEntanglingLayers(weights, wires=learn_wires)\n",
    "        # return [qml.expval(qml.PauliZ(wires=w)) for w in data_wires]\n",
    "        return qml.probs(wires=data_wires)\n",
    "    return _qgraph_circ\n",
    "\n",
    "def qgraph_basis_shape(n_data, n_extra, n_layers=1, rot='Ry'):\n",
    "    n_wires = n_data + n_extra\n",
    "    if rot == 'Ry':\n",
    "        shape = qml.BasicEntanglerLayers.shape(n_layers=n_layers, n_wires=n_wires)\n",
    "    elif  rot == 'Rxyz':\n",
    "        shape = qml.StronglyEntanglingLayers.shape(n_layers=n_layers, n_wires=n_wires)\n",
    "    else:\n",
    "        shape = (0)\n",
    "    return shape"
   ]
  },
  {
   "cell_type": "code",
   "execution_count": 17,
   "id": "7f8ebd7b-3068-4783-9966-d16c234f0cbf",
   "metadata": {},
   "outputs": [
    {
     "name": "stdout",
     "output_type": "stream",
     "text": [
      "QGraph shape: (3, 4)\n",
      "\n",
      "Data: tensor([[1., 0., 1.]], dtype=torch.float64)\n",
      "\n",
      "Weights (torch.Size([3, 4])): \n",
      "tensor([[0.4019, 0.9023, 0.5296, 0.7875],\n",
      "        [0.0214, 0.0534, 0.8363, 0.1859],\n",
      "        [0.4337, 0.4845, 0.3304, 0.2682]], requires_grad=True)\n",
      "\n",
      "Epochs: 4000, Shots: 1000, Seed: 2024, Mode: hybrid\n"
     ]
    }
   ],
   "source": [
    "### Create a test model\n",
    "\n",
    "shape = qgraph_basis_shape(n_data, n_extra, n_layers=n_layers, rot=rot)\n",
    "n_weights = np.prod(shape)\n",
    "print(f'QGraph shape: {shape}\\n')\n",
    "\n",
    "vertices = torch.tensor([bin_int_to_list(5, n_data)], dtype=torch.double).to(torch_device)\n",
    "weights = torch.rand(shape, requires_grad=True)\n",
    "\n",
    "print(f'Data: {vertices}\\n')\n",
    "print(f'Weights ({weights.shape}): \\n{weights}\\n')\n",
    "print(f'Epochs: {epochs}, Shots: {shots}, Seed: {seed}, Mode: {mode}')"
   ]
  },
  {
   "cell_type": "code",
   "execution_count": 18,
   "id": "fd61f6a9-c543-4661-aa17-009ca4c6b4ea",
   "metadata": {},
   "outputs": [
    {
     "data": {
      "image/png": "[encoded data removed]",
      "text/plain": [
       "<Figure size 1330x350 with 1 Axes>"
      ]
     },
     "metadata": {},
     "output_type": "display_data"
    }
   ],
   "source": [
    "### Testing QGraph for training\n",
    "\n",
    "# Define a static QGraph\n",
    "qgraph = qgraph_basis(wires, n_data, n_extra, n_layers=n_layers, rot=rot, scaler=scaler)\n",
    "\n",
    "# Create and draw a QGraph circuit\n",
    "dev = qml.device(sim, wires=n_wires, shots=shots)\n",
    "qgraph_qc = qml.QNode(qgraph, dev, interface='torch', expansion_strategy='gradient')\n",
    "dc = draw_circuit(qgraph_qc, scale=0.7, title='QGraph Circuit', expansion_strategy='device') # device # gradient\n",
    "dc(vertices, weights) # expansion_strategy='device'/'gradient'"
   ]
  },
  {
   "cell_type": "code",
   "execution_count": 19,
   "id": "20b6a088-e3d2-4b96-a6e7-23eda2c99726",
   "metadata": {},
   "outputs": [
    {
     "data": {
      "text/plain": [
       "{'resources': Resources(num_wires=4, num_gates=2, gate_types=defaultdict(<class 'int'>, {'AngleEmbedding': 1, 'BasicEntanglerLayers': 1}), gate_sizes=defaultdict(<class 'int'>, {3: 1, 4: 1}), depth=2, shots=Shots(total_shots=1000, shot_vector=(ShotCopies(1000 shots x 1),))),\n",
       " 'errors': {},\n",
       " 'num_observables': 1,\n",
       " 'num_diagonalizing_gates': 0,\n",
       " 'num_trainable_params': 1,\n",
       " 'num_device_wires': 4,\n",
       " 'device_name': 'lightning.qubit',\n",
       " 'expansion_strategy': 'gradient',\n",
       " 'gradient_options': {},\n",
       " 'interface': 'torch',\n",
       " 'diff_method': 'best',\n",
       " 'gradient_fn': 'adjoint'}"
      ]
     },
     "metadata": {},
     "output_type": "display_data"
    }
   ],
   "source": [
    "### Show circuit details\n",
    "display(qml.specs(qgraph_qc)(vertices, weights))\n",
    "# with qml.Tracker(qgraph_qc.device) as tracker:\n",
    "#     qml.grad(qgraph_qc)(vertex_no, weights)\n",
    "# print(tracker.totals)\n",
    "# print(tracker.history)"
   ]
  },
  {
   "cell_type": "code",
   "execution_count": 20,
   "id": "6f4e3978-03e4-4c48-8bc5-9452dc7e413d",
   "metadata": {},
   "outputs": [
    {
     "name": "stdout",
     "output_type": "stream",
     "text": [
      "Parameters: Scaler=3.141592653589793, n_data=3\n",
      "\n",
      "Inputs:\n",
      "tensor([[0., 0., 1.],\n",
      "        [0., 1., 1.],\n",
      "        [1., 1., 0.],\n",
      "        [1., 1., 1.]], dtype=torch.float64)\n",
      "\n",
      "Outputs: probability distributions=\n",
      "tensor([[0.1390, 0.1700, 0.0590, 0.4790, 0.0030, 0.1270, 0.0100, 0.0130],\n",
      "        [0.0150, 0.0360, 0.1040, 0.0260, 0.1950, 0.4930, 0.0600, 0.0710],\n",
      "        [0.0690, 0.0840, 0.0050, 0.0160, 0.1470, 0.1580, 0.4340, 0.0870],\n",
      "        [0.0000, 0.0030, 0.0070, 0.1570, 0.0160, 0.5000, 0.0970, 0.2200]],\n",
      "       dtype=torch.float64, grad_fn=<SqueezeBackward0>)\n",
      "sum(probs)=[1.0, 1.0, 1.0, 1.0]\n"
     ]
    }
   ],
   "source": [
    "###### Test the circuit\n",
    "test_data = nums_to_bin_tensor([1, 3, 6, 7], n_data, torch_device=torch_device)\n",
    "probs = qgraph_qc(test_data, weights)\n",
    "print(f'Parameters: Scaler={scaler}, n_data={n_data}\\n')\n",
    "print(f'Inputs:\\n{test_data}\\n')\n",
    "print(f'Outputs: probability distributions=\\n{probs}\\nsum(probs)={[np.round(sum(p).item(), 3) for p in probs]}')"
   ]
  },
  {
   "cell_type": "markdown",
   "id": "211cb0ad-1be0-4f82-bada-739b683345fc",
   "metadata": {},
   "source": [
    "## Create and Test QGraph Trainable Model"
   ]
  },
  {
   "cell_type": "code",
   "execution_count": 21,
   "id": "82bc11e2-9a13-40c3-827f-a79ab5c290e4",
   "metadata": {},
   "outputs": [],
   "source": [
    "### Hybrid QGraph\n",
    "#   Graph properties:\n",
    "#      wires: circuit wires\n",
    "#      n_data: number of data wires to be reserved\n",
    "#      n_extra: number of extra wires to be used in training\n",
    "#      n_layers: number of entangling layers to be produced\n",
    "#      rot: rotation type, either 'Ry' or 'Rxyz'\n",
    "#      scaler: scaler to be applied to all inputs\n",
    "#      mode: QGraph type, i.e. 'classic', 'quantum' or 'hybrid'\n",
    "#   Circuit functionality (input -> output):\n",
    "#      input - vertex id (log2N qubits)\n",
    "#      output - edge weight distribution / probability distribution of target vertex selection (N results)\n",
    "class qgraph_model(nn.Module):\n",
    "\n",
    "    def __init__(self, sim, n_data, n_extra, n_layers=1, rot='Ry', shots=0, scaler=1, mode='hybrid'):\n",
    "        super(qgraph_model, self).__init__()\n",
    "\n",
    "        n_inputs = n_data\n",
    "        n_outputs = n_data\n",
    "        n_wires = n_data+n_extra\n",
    "        wires = list(range(n_wires))\n",
    "\n",
    "        ### Define QGraph circuit weight shapes\n",
    "        tensor_shape = qgraph_basis_shape(n_data, n_extra, n_layers=n_layers, rot=rot)\n",
    "        weights_shapes = {\"weights\": tensor_shape}\n",
    "        init_method = {\"weights\": torch.rand(tensor_shape, requires_grad=True)} # torch.nn.init.normal_ # torch.nn.init.uniform_\n",
    "\n",
    "        ### Define QGraph circuit\n",
    "        qgraph = qgraph_basis(wires, n_data, n_extra, n_layers=n_layers, rot=rot, scaler=scaler)\n",
    "        if shots == 0:\n",
    "            dev = qml.device(sim, wires=n_wires)\n",
    "        else:\n",
    "            dev = qml.device(sim, wires=n_wires, shots=shots)\n",
    "        qgraph_node = qml.QNode(qgraph, dev, interface='torch', expansion_strategy='gradient')\n",
    "        \n",
    "        # Add QNN layer at the end\n",
    "        clayer_1 = torch.nn.Linear(n_data, 50)\n",
    "        clayer_2 = torch.nn.ReLU()\n",
    "        clayer_3 = torch.nn.Linear(20, n_data)\n",
    "        clayer_4 = torch.nn.Linear(n_data, 2**n_data)\n",
    "        qlayer = qml.qnn.TorchLayer(qgraph_node, weight_shapes=weights_shapes, init_method=init_method)\n",
    "        if mode == 'quantum':\n",
    "            layers = [qlayer]\n",
    "        elif mode == 'classic':\n",
    "            layers = [clayer_1, clayer_2, clayer_3, clayer_4]\n",
    "        else:\n",
    "            layers = [clayer_1, clayer_2, clayer_3, qlayer]\n",
    "        self.model = nn.Sequential(*layers)        \n",
    "        \n",
    "    def forward(self, x):\n",
    "        x = self.model(x)\n",
    "        return x"
   ]
  },
  {
   "cell_type": "code",
   "execution_count": 22,
   "id": "b897a159-b49a-4118-bebd-bbe38ed345f3",
   "metadata": {},
   "outputs": [],
   "source": [
    "### Trains QGraph models\n",
    "#   X: Vertex number (from 0 to max)\n",
    "#   Y: Array(0..max) of (expected) edge weights to all other vertices (including the self)\n",
    "def train_model(model, lossfun, optimizer, X, Y, epochs=50, log_interv=100, prompt_fract=0.1):\n",
    "    history = []\n",
    "    min_epoch = 0\n",
    "    min_loss = 1000\n",
    "    opt_params = {}\n",
    "    hist_params = []\n",
    "    running_loss = 0\n",
    "    \n",
    "    model.train()\n",
    "    for epoch in range(epochs):\n",
    "        \n",
    "        optimizer.zero_grad()\n",
    "        output = model(X)\n",
    "        loss = lossfun(output, Y)\n",
    "        loss.backward()\n",
    "        optimizer.step()\n",
    "        \n",
    "        curr_loss = loss.item()\n",
    "        if curr_loss < min_loss: \n",
    "            min_loss = curr_loss\n",
    "            min_epoch = epoch\n",
    "            opt_params = copy.deepcopy(model.state_dict())\n",
    "\n",
    "        if epoch % log_interv == 0:\n",
    "            history.append(curr_loss)\n",
    "            hist_params.append(copy.deepcopy(model.state_dict()))\n",
    "\n",
    "        if epoch % int(prompt_fract*epochs) == 0:\n",
    "            print(f'epoch {epoch} \\t Loss: {loss.item():.4g}')\n",
    "            \n",
    "        running_loss += curr_loss\n",
    "\n",
    "    return history, opt_params, hist_params, (min_epoch, min_loss)"
   ]
  },
  {
   "cell_type": "code",
   "execution_count": 23,
   "id": "b88dfc4e-7179-4b1c-9221-4fa3312a8204",
   "metadata": {},
   "outputs": [
    {
     "name": "stdout",
     "output_type": "stream",
     "text": [
      "n_layers = 3, n_data = 3, n_extra = 1, rot = \"Ry\", mode = \"hybrid\"\n"
     ]
    }
   ],
   "source": [
    "### Remind the QAE params\n",
    "print(f'n_layers = {n_layers}, n_data = {n_data}, n_extra = {n_extra}, rot = \"{rot}\", mode = \"{mode}\"')"
   ]
  },
  {
   "cell_type": "code",
   "execution_count": 24,
   "id": "35bfc7b3-c04e-42f2-9ddf-3f740bbd5a42",
   "metadata": {},
   "outputs": [
    {
     "data": {
      "text/plain": [
       "qgraph_model(\n",
       "  (model): Sequential(\n",
       "    (0): <Quantum Torch Layer: func=_qgraph_circ>\n",
       "  )\n",
       ")"
      ]
     },
     "execution_count": 24,
     "metadata": {},
     "output_type": "execute_result"
    }
   ],
   "source": [
    "### Set random seed\n",
    "torch.manual_seed(seed)\n",
    "torch.cuda.manual_seed(seed)\n",
    "torch.backends.cudnn.deterministic = True\n",
    "torch.backends.cudnn.benchmark = False\n",
    "\n",
    "### Create a model\n",
    "qgraph = qgraph_model(sim, n_data, n_extra, n_layers=n_layers, rot=rot, scaler=scaler, mode='quantum').double().to(torch_device)\n",
    "\n",
    "# error = nn.MSELoss()\n",
    "# lossfun = nn.L1Loss()\n",
    "m = div_metrics()\n",
    "lossfun = m.jsd\n",
    "\n",
    "# optimizer=optim.SGD(model.parameters(),lr=0.01,weight_decay=1e-5)\n",
    "optimizer = optim.Adam(qgraph.parameters())\n",
    "\n",
    "qgraph.eval()"
   ]
  },
  {
   "cell_type": "code",
   "execution_count": 25,
   "id": "a43749d4-320c-46e0-b0f2-05af78b12049",
   "metadata": {},
   "outputs": [
    {
     "name": "stdout",
     "output_type": "stream",
     "text": [
      "tensor([[0., 0., 1.],\n",
      "        [0., 1., 1.],\n",
      "        [1., 1., 0.],\n",
      "        [1., 1., 1.]], dtype=torch.float64)\n"
     ]
    },
    {
     "data": {
      "text/plain": [
       "tensor([[0.1687, 0.0367, 0.0267, 0.5328, 0.1163, 0.0240, 0.0032, 0.0916],\n",
       "        [0.0014, 0.1587, 0.2878, 0.0386, 0.0277, 0.3963, 0.0859, 0.0035],\n",
       "        [0.0268, 0.0332, 0.0420, 0.0266, 0.0128, 0.2659, 0.5869, 0.0057],\n",
       "        [0.0621, 0.0624, 0.0539, 0.0769, 0.0766, 0.4186, 0.1536, 0.0957]],\n",
       "       dtype=torch.float64, grad_fn=<ViewBackward0>)"
      ]
     },
     "execution_count": 25,
     "metadata": {},
     "output_type": "execute_result"
    }
   ],
   "source": [
    "### Test the model\n",
    "single_tens = nums_to_bin_tensor([6], n_data, torch_device=torch_device)\n",
    "ins_tens = nums_to_bin_tensor([1, 3, 6, 7], n_data, torch_device=torch_device)\n",
    "print(ins_tens)\n",
    "qgraph(ins_tens)"
   ]
  },
  {
   "cell_type": "code",
   "execution_count": 26,
   "id": "c17e485a-f293-4414-a0b4-6e2a0739ae1b",
   "metadata": {},
   "outputs": [
    {
     "data": {
      "text/plain": [
       "tensor([[0.5317, 0.8313, 0.9718, 0.1193],\n",
       "        [0.1669, 0.3495, 0.2150, 0.6201],\n",
       "        [0.4849, 0.7492, 0.1521, 0.5625]], dtype=torch.float64)"
      ]
     },
     "metadata": {},
     "output_type": "display_data"
    },
    {
     "data": {
      "image/png": "[encoded data removed]",
      "text/plain": [
       "<Figure size 1330x350 with 1 Axes>"
      ]
     },
     "metadata": {},
     "output_type": "display_data"
    },
    {
     "data": {
      "text/plain": [
       "None"
      ]
     },
     "metadata": {},
     "output_type": "display_data"
    },
    {
     "data": {
      "text/plain": [
       "tensor([[0.1687, 0.0367, 0.0267, 0.5328, 0.1163, 0.0240, 0.0032, 0.0916],\n",
       "        [0.0014, 0.1587, 0.2878, 0.0386, 0.0277, 0.3963, 0.0859, 0.0035],\n",
       "        [0.0268, 0.0332, 0.0420, 0.0266, 0.0128, 0.2659, 0.5869, 0.0057],\n",
       "        [0.0621, 0.0624, 0.0539, 0.0769, 0.0766, 0.4186, 0.1536, 0.0957]],\n",
       "       dtype=torch.float64)"
      ]
     },
     "execution_count": 26,
     "metadata": {},
     "output_type": "execute_result"
    }
   ],
   "source": [
    "qg_weights = qgraph.model[0].qnode_weights['weights'].data\n",
    "qg_node = qgraph.model[0].qnode\n",
    "\n",
    "dc = draw_circuit(qg_node, scale=0.7, title='QGraph Circuit', expansion_strategy='device') # device # gradient\n",
    "\n",
    "display(qg_weights)\n",
    "display(dc(single_tens, qg_weights)) # expansion_strategy='device'/'gradient'\n",
    "qg_node(ins_tens, qg_weights)"
   ]
  },
  {
   "cell_type": "markdown",
   "id": "6ce24011-b19e-4582-96ed-f373405af4c2",
   "metadata": {},
   "source": [
    "### Train the model"
   ]
  },
  {
   "cell_type": "code",
   "execution_count": 27,
   "id": "9e7f6764-45f0-4e8f-9428-f34d943d207e",
   "metadata": {},
   "outputs": [
    {
     "data": {
      "text/plain": [
       "(tensor([[0., 0., 0.],\n",
       "         [0., 0., 1.],\n",
       "         [0., 1., 0.],\n",
       "         [0., 1., 1.],\n",
       "         [1., 0., 0.],\n",
       "         [1., 0., 1.],\n",
       "         [1., 1., 0.],\n",
       "         [1., 1., 1.]], dtype=torch.float64),\n",
       " tensor([[0.0000, 0.4944, 0.0000, 0.0000, 0.5056, 0.0000, 0.0000, 0.0000],\n",
       "         [0.0000, 1.0000, 0.0000, 0.0000, 0.0000, 0.0000, 0.0000, 0.0000],\n",
       "         [0.0000, 0.0000, 1.0000, 0.0000, 0.0000, 0.0000, 0.0000, 0.0000],\n",
       "         [0.0000, 0.0000, 1.0000, 0.0000, 0.0000, 0.0000, 0.0000, 0.0000],\n",
       "         [0.0000, 0.0000, 1.0000, 0.0000, 0.0000, 0.0000, 0.0000, 0.0000],\n",
       "         [0.0000, 0.6475, 0.0000, 0.0000, 0.0000, 0.0000, 0.3525, 0.0000],\n",
       "         [0.0000, 0.0000, 0.0000, 0.8016, 0.0000, 0.1984, 0.0000, 0.0000],\n",
       "         [0.0000, 0.0000, 0.8130, 0.0000, 0.0000, 0.0000, 0.1870, 0.0000]],\n",
       "        dtype=torch.float64))"
      ]
     },
     "execution_count": 27,
     "metadata": {},
     "output_type": "execute_result"
    }
   ],
   "source": [
    "X, Y"
   ]
  },
  {
   "cell_type": "code",
   "execution_count": 28,
   "id": "473b6601-aa4e-4495-bf59-6a42258bd2bf",
   "metadata": {},
   "outputs": [
    {
     "name": "stdout",
     "output_type": "stream",
     "text": [
      "epoch 0 \t Loss: 0.7745\n",
      "epoch 200 \t Loss: 0.6644\n",
      "epoch 400 \t Loss: 0.5758\n",
      "epoch 600 \t Loss: 0.5203\n",
      "epoch 800 \t Loss: 0.4898\n",
      "epoch 1000 \t Loss: 0.4719\n",
      "epoch 1200 \t Loss: 0.4599\n",
      "epoch 1400 \t Loss: 0.4505\n",
      "epoch 1600 \t Loss: 0.442\n",
      "epoch 1800 \t Loss: 0.4345\n",
      "epoch 2000 \t Loss: 0.4283\n",
      "epoch 2200 \t Loss: 0.4234\n",
      "epoch 2400 \t Loss: 0.4198\n",
      "epoch 2600 \t Loss: 0.4172\n",
      "epoch 2800 \t Loss: 0.4155\n",
      "epoch 3000 \t Loss: 0.4144\n",
      "epoch 3200 \t Loss: 0.4137\n",
      "epoch 3400 \t Loss: 0.4133\n",
      "epoch 3600 \t Loss: 0.413\n",
      "epoch 3800 \t Loss: 0.4129\n",
      "\n",
      "lightning.qubit & cpu Fit (8 samples, 3+1=4 qubits, 12 params, 4000 epochs): 0.41278 min cost @ iter# 3999, 315.13 sec\n",
      "\n"
     ]
    }
   ],
   "source": [
    "### Loss and optimiser\n",
    "\n",
    "# error = nn.MSELoss()\n",
    "# lossfun = nn.L1Loss()\n",
    "m = div_metrics()\n",
    "lossfun = m.jsd\n",
    "\n",
    "# optimizer=optim.SGD(model.parameters(),lr=0.01,weight_decay=1e-5)\n",
    "optimizer = optim.Adam(qgraph.parameters())\n",
    "\n",
    "### Train the model\n",
    "start = time.time()\n",
    "\n",
    "# cuda Fit (58 samples, 5+3=8 window, 19479 params, 30000 epochs): 0.01196 min cost @ iter# 27561, 19.62 sec\n",
    "\n",
    "sel_noisy_rec = 0\n",
    "history, opt_params, hist_params, opt_point = \\\n",
    "    train_model(qgraph, lossfun, optimizer, X, Y, epochs=epochs, log_interv=1, prompt_fract=0.05)\n",
    "\n",
    "elapsed = time.time() - start\n",
    "\n",
    "# Print run statistics\n",
    "shape = qgraph_basis_shape(n_data, n_extra, n_layers=n_layers, rot=rot)\n",
    "n_weights = np.prod(shape)\n",
    "\n",
    "print(f'\\n'+\n",
    "      f'{sim} & {torch_device} Fit ('+\n",
    "      f'{X.shape[0]} samples, '+\n",
    "      f'{n_data}+{n_extra}={n_wires} qubits, '+\n",
    "      f'{n_weights} params, '+\n",
    "      f'{epochs} epochs): '+\n",
    "      f'{round(opt_point[1], 5)} min cost @ iter# {opt_point[0]}, '+\n",
    "      f'{elapsed:0.2f} sec'+\n",
    "      f'\\n'\n",
    "     )"
   ]
  },
  {
   "cell_type": "code",
   "execution_count": 29,
   "id": "60ee7b38-aabf-4280-a301-ade4bbc96fed",
   "metadata": {},
   "outputs": [
    {
     "data": {
      "image/png": "[encoded data removed]",
      "text/plain": [
       "<Figure size 1000x600 with 1 Axes>"
      ]
     },
     "metadata": {},
     "output_type": "display_data"
    }
   ],
   "source": [
    "cost_plot(history, rcParams=(10, 6), backplot=True, back_color='lightgray', smooth_weight=0.7, log_interv=1) \n",
    "          #save_plot=f'{FIGURES_PATH}/{TRAIN_PREF}_hist{epochs}.eps')"
   ]
  },
  {
   "cell_type": "markdown",
   "id": "38f5b4b5-db1a-4b4f-95a7-3bd8095254f5",
   "metadata": {},
   "source": [
    "## Test the model"
   ]
  },
  {
   "cell_type": "code",
   "execution_count": 30,
   "id": "041c6cf4-fe58-4f54-8aac-c15746ffb36b",
   "metadata": {},
   "outputs": [
    {
     "data": {
      "text/plain": [
       "(tensor([[0., 0., 0.],\n",
       "         [0., 0., 1.],\n",
       "         [0., 1., 0.],\n",
       "         [0., 1., 1.],\n",
       "         [1., 0., 0.],\n",
       "         [1., 0., 1.],\n",
       "         [1., 1., 0.],\n",
       "         [1., 1., 1.]], dtype=torch.float64),\n",
       " tensor([[0.0000, 0.4944, 0.0000, 0.0000, 0.5056, 0.0000, 0.0000, 0.0000],\n",
       "         [0.0000, 1.0000, 0.0000, 0.0000, 0.0000, 0.0000, 0.0000, 0.0000],\n",
       "         [0.0000, 0.0000, 1.0000, 0.0000, 0.0000, 0.0000, 0.0000, 0.0000],\n",
       "         [0.0000, 0.0000, 1.0000, 0.0000, 0.0000, 0.0000, 0.0000, 0.0000],\n",
       "         [0.0000, 0.0000, 1.0000, 0.0000, 0.0000, 0.0000, 0.0000, 0.0000],\n",
       "         [0.0000, 0.6475, 0.0000, 0.0000, 0.0000, 0.0000, 0.3525, 0.0000],\n",
       "         [0.0000, 0.0000, 0.0000, 0.8016, 0.0000, 0.1984, 0.0000, 0.0000],\n",
       "         [0.0000, 0.0000, 0.8130, 0.0000, 0.0000, 0.0000, 0.1870, 0.0000]],\n",
       "        dtype=torch.float64))"
      ]
     },
     "execution_count": 30,
     "metadata": {},
     "output_type": "execute_result"
    }
   ],
   "source": [
    "X, Y"
   ]
  },
  {
   "cell_type": "code",
   "execution_count": 31,
   "id": "c2f9176f-cb49-41ce-928c-3ce0a07c55b5",
   "metadata": {},
   "outputs": [
    {
     "data": {
      "text/plain": [
       "tensor([0.0225, 0.1010, 0.2548, 0.0094, 0.0432, 0.2272, 0.0086, 0.3333],\n",
       "       dtype=torch.float64, grad_fn=<ExecuteTapesBackward>)"
      ]
     },
     "execution_count": 31,
     "metadata": {},
     "output_type": "execute_result"
    }
   ],
   "source": [
    "qgraph(X[3])"
   ]
  },
  {
   "cell_type": "markdown",
   "id": "a10e29f7-5878-4018-ad0a-63df3dff8b0b",
   "metadata": {},
   "source": [
    "## Issues"
   ]
  },
  {
   "cell_type": "markdown",
   "id": "54adcba4-5f63-4d11-b257-ba15a0ef6114",
   "metadata": {},
   "source": [
    "**V1_06** Training\n",
    "- Issue 01 (240908) Model params not matching input - need to change the QG representation\n",
    "- **Fixed 01 (240909)** Recoded QG representation, problem fixed\n",
    "- **Issue 02 (240909)** Error in classical and hybrid QG mode\n",
    "- **Issue 03 (240909)** Need to check the QG accuracy\n",
    "- **Issue 04 (240909)** Need to apply KL and/or JS divergence as the loss function\n",
    "- **Issue 05 (240909)** Poor QG performance"
   ]
  },
  {
   "cell_type": "markdown",
   "id": "403bec1a-13a8-40e8-bb51-c7650afc4e44",
   "metadata": {},
   "source": [
    "## System"
   ]
  },
  {
   "cell_type": "code",
   "execution_count": 32,
   "id": "bdd995cd-9bec-4d8d-b1ea-de0634b026e9",
   "metadata": {},
   "outputs": [
    {
     "name": "stdout",
     "output_type": "stream",
     "text": [
      "networkx                  3.3\n",
      "PennyLane                 0.36.0\n",
      "PennyLane_Lightning       0.36.0\n",
      "PennyLane_Lightning_GPU   0.36.0\n",
      "PennyLane-Rigetti         0.36.0\n",
      "torch                     2.3.1+cu121\n",
      "torchaudio                2.3.1+cu121\n",
      "torchsummary              1.5.1\n",
      "torchvision               0.18.1+cu121\n"
     ]
    }
   ],
   "source": [
    "!pip list | grep -e torch -e PennyLane -e networkx"
   ]
  }
 ],
 "metadata": {
  "kernelspec": {
   "display_name": "Python 3 (ipykernel)",
   "language": "python",
   "name": "python3"
  },
  "language_info": {
   "codemirror_mode": {
    "name": "ipython",
    "version": 3
   },
   "file_extension": ".py",
   "mimetype": "text/x-python",
   "name": "python",
   "nbconvert_exporter": "python",
   "pygments_lexer": "ipython3",
   "version": "3.11.9"
  },
  "widgets": {
   "application/vnd.jupyter.widget-state+json": {
    "state": {},
    "version_major": 2,
    "version_minor": 0
   }
  }
 },
 "nbformat": 4,
 "nbformat_minor": 5
}
