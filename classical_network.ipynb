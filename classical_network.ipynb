{
 "cells": [
  {
   "cell_type": "code",
   "execution_count": null,
   "metadata": {},
   "outputs": [],
   "source": [
    "import torch\n",
    "\n",
    "class NGraph(torch.nn.Module):\n",
    "    \"\"\"Classical neural network for bit representation of graph\"\"\"\n",
    "    def __init__(self , n_input, n_output):\n",
    "        super(NGraph, self).__init__()\n",
    "        self.layers = torch.nn.Sequential(\n",
    "            torch.nn.Linear(n_input, n_output),\n",
    "            torch.nn.Softmax(dim=1)\n",
    "        )\n",
    "        \n",
    "    def forward(self, x):\n",
    "        return self.layers(x)\n",
    "    \n",
    "    def get_weights(self):\n",
    "        return {k:v for k, v in self.state_dict().items() if \"weight\" in k}\n",
    "\n",
    "    def get_biases(self):\n",
    "        return {k:v for k, v in self.state_dict().items() if \"bias\" in k}\n",
    "    \n",
    "    def fit(self, x, y, epochs):\n",
    "        self.losses = []\n",
    "        self.criterion_ = torch.nn.MSELoss()\n",
    "        self.optimizer_ = torch.optim.Adam(self.parameters(), lr=0.01)\n",
    "        self.train()\n",
    "        for epoch in range(1, epochs+1):\n",
    "            self.optimizer_.zero_grad()\n",
    "            out = self(x)\n",
    "            loss = self.criterion_(out, y)\n",
    "            self.losses.append(float(loss))\n",
    "            loss.backward()\n",
    "            if epoch % 10==0:\n",
    "                print(f'Epoch {epoch:>3} | Train loss: {loss:.3f}')\n",
    "            self.optimizer_.step() \n"
   ]
  },
  {
   "cell_type": "code",
   "execution_count": 2,
   "metadata": {},
   "outputs": [],
   "source": [
    "model1 = NGraph(3,6)"
   ]
  },
  {
   "cell_type": "code",
   "execution_count": 3,
   "metadata": {},
   "outputs": [
    {
     "data": {
      "text/plain": [
       "{'layers.0.weight': tensor([[ 0.0247, -0.2419, -0.5169],\n",
       "         [ 0.0674,  0.1203,  0.4886],\n",
       "         [ 0.0622, -0.5489, -0.4456],\n",
       "         [ 0.2111,  0.1586, -0.3918],\n",
       "         [ 0.5173, -0.4854, -0.3456],\n",
       "         [ 0.3639,  0.5052, -0.4967]])}"
      ]
     },
     "execution_count": 3,
     "metadata": {},
     "output_type": "execute_result"
    }
   ],
   "source": [
    "model1.get_weights()"
   ]
  },
  {
   "cell_type": "code",
   "execution_count": 4,
   "metadata": {},
   "outputs": [],
   "source": [
    "X = torch.tensor([[0., 0., 0.],\n",
    "        [0., 0., 1.],\n",
    "        [0., 1., 0.],\n",
    "        [0., 1., 1.],\n",
    "        [1., 0., 0.],\n",
    "        [1., 0., 1.]])"
   ]
  },
  {
   "cell_type": "code",
   "execution_count": 5,
   "metadata": {},
   "outputs": [],
   "source": [
    "Y = torch.tensor([[0.0000, 0.6270, 0.1410, 0.2320, 0.0000, 0.0000],\n",
    "        [0.7450, 0.0000, 0.2550, 0.0000, 0.0000, 0.0000],\n",
    "        [0.3040, 0.6960, 0.0000, 0.0000, 0.0000, 0.0000],\n",
    "        [0.5590, 0.0000, 0.0000, 0.0000, 0.2120, 0.2290],\n",
    "        [0.0000, 0.0000, 0.0000, 0.5010, 0.0000, 0.4990],\n",
    "        [0.0000, 0.0000, 0.0000, 0.5830, 0.4170, 0.0000]])"
   ]
  },
  {
   "cell_type": "code",
   "execution_count": 6,
   "metadata": {},
   "outputs": [
    {
     "name": "stdout",
     "output_type": "stream",
     "text": [
      "Epoch  10 | Train loss: 0.062\n",
      "Epoch  20 | Train loss: 0.055\n",
      "Epoch  30 | Train loss: 0.049\n",
      "Epoch  40 | Train loss: 0.044\n",
      "Epoch  50 | Train loss: 0.040\n",
      "Epoch  60 | Train loss: 0.036\n",
      "Epoch  70 | Train loss: 0.033\n",
      "Epoch  80 | Train loss: 0.030\n",
      "Epoch  90 | Train loss: 0.027\n",
      "Epoch 100 | Train loss: 0.025\n"
     ]
    }
   ],
   "source": [
    "model1.fit(X,Y,100)"
   ]
  },
  {
   "cell_type": "code",
   "execution_count": 9,
   "metadata": {},
   "outputs": [
    {
     "data": {
      "text/plain": [
       "{'layers.0.weight': tensor([[-0.9769,  0.3890,  0.4392],\n",
       "         [-0.7160,  1.0189, -0.3911],\n",
       "         [-0.7074, -1.2247, -0.3394],\n",
       "         [ 1.1249, -0.8168, -0.1314],\n",
       "         [ 0.6535,  0.0060,  0.3594],\n",
       "         [ 1.1988, -0.0961, -1.3451]])}"
      ]
     },
     "execution_count": 9,
     "metadata": {},
     "output_type": "execute_result"
    }
   ],
   "source": [
    "model1.get_weights()"
   ]
  },
  {
   "cell_type": "code",
   "execution_count": 10,
   "metadata": {},
   "outputs": [
    {
     "data": {
      "text/plain": [
       "{'layers.0.bias': tensor([ 0.5876,  0.2551, -0.1800,  0.1194, -0.5528, -0.2839])}"
      ]
     },
     "execution_count": 10,
     "metadata": {},
     "output_type": "execute_result"
    }
   ],
   "source": [
    "model1.get_biases()"
   ]
  },
  {
   "cell_type": "code",
   "execution_count": null,
   "metadata": {},
   "outputs": [],
   "source": [
    "# zmienić kodowanie na embedding w wymiarze log_2n"
   ]
  }
 ],
 "metadata": {
  "kernelspec": {
   "display_name": "venv",
   "language": "python",
   "name": "python3"
  },
  "language_info": {
   "codemirror_mode": {
    "name": "ipython",
    "version": 3
   },
   "file_extension": ".py",
   "mimetype": "text/x-python",
   "name": "python",
   "nbconvert_exporter": "python",
   "pygments_lexer": "ipython3",
   "version": "3.11.11"
  }
 },
 "nbformat": 4,
 "nbformat_minor": 2
}
