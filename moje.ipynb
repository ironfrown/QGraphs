{
 "cells": [
  {
   "cell_type": "code",
   "execution_count": 1,
   "metadata": {},
   "outputs": [],
   "source": [
    "import networkx as nx\n",
    "import numpy as np\n",
    "import matplotlib.pyplot as plt\n",
    "\n",
    "class QGraph(object):\n",
    "\n",
    "    def __init__(self, g, method='rand'):\n",
    "        self.g = g\n",
    "        self.qgraph = self.__digraph_expanded_and_weighed(g, method=method)\n",
    "        self.adj = self.__digraph_to_adjmat(self.qgraph)\n",
    "        self.n_vertices = self.qgraph.number_of_nodes()\n",
    "        self.n_qubits =  int(np.ceil(np.log2(self.n_vertices)))\n",
    "\n",
    "    def __digraph_expanded_and_weighed(self, g, method='rand'):\n",
    "        g_adj = nx.adjacency_matrix(g).toarray() # todense()\n",
    "        g_adj_expanded = self.__digraph_adj_expand(g_adj)\n",
    "        g_adj_weighed = self.__digraph_adj_weigh(g_adj_expanded, method=method)\n",
    "        return nx.DiGraph(g_adj_weighed)\n",
    "    \n",
    "    def __digraph_adj_expand(self, w_adj):\n",
    "        exp_adj = w_adj.copy() #.toarray()\n",
    "        for r in range(w_adj.shape[0]):\n",
    "            r_sum = np.count_nonzero(w_adj[r])\n",
    "            if r_sum == 0:\n",
    "                # No outgoing links - create a loop\n",
    "                exp_adj[r, r] = 1.0\n",
    "        return exp_adj\n",
    "\n",
    "    def __digraph_adj_weigh(self, unw_adj, method='rand'):\n",
    "        w_adj = unw_adj.copy().astype(float)\n",
    "        for r in range(unw_adj.shape[0]):\n",
    "            r_sum = sum(unw_adj[r])\n",
    "            r_nz = np.count_nonzero(unw_adj[r])\n",
    "            if r_sum != 0.0:\n",
    "                # Edges available - generate weights\n",
    "                if method == 'rand':\n",
    "                    nz_weights = np.random.random(r_nz)\n",
    "                else:\n",
    "                    nz_weights = np.array([num*1.0 for num in unw_adj[r] if num])\n",
    "                nz_weights /= nz_weights.sum()\n",
    "                w_no = 0\n",
    "                for c in range(unw_adj.shape[1]):\n",
    "                    if unw_adj[r, c] > 0:\n",
    "                        w_adj[r, c] = nz_weights[w_no]\n",
    "                        w_no += 1\n",
    "        return np.around(w_adj, 3)\n",
    "\n",
    "    def __digraph_to_adjmat(self, G):\n",
    "        adj_comp = nx.adjacency_matrix(G, nodelist=None, dtype=None, weight='weight')\n",
    "        return adj_comp.todense()"
   ]
  },
  {
   "cell_type": "code",
   "execution_count": 2,
   "metadata": {},
   "outputs": [
    {
     "name": "stdout",
     "output_type": "stream",
     "text": [
      "is connected: True\n"
     ]
    }
   ],
   "source": [
    "g = nx.Graph()\n",
    "g.add_edges_from([(0,1),(1,2),(2,0),(0,3),(3,4),(4,5),(3,5)])\n",
    "print(f\"is connected: {nx.is_connected(g)}\")"
   ]
  },
  {
   "cell_type": "code",
   "execution_count": 3,
   "metadata": {},
   "outputs": [
    {
     "data": {
      "image/png": "[encoded data removed]",
      "text/plain": [
       "<Figure size 640x480 with 1 Axes>"
      ]
     },
     "metadata": {},
     "output_type": "display_data"
    }
   ],
   "source": [
    "nx.draw_circular(g , with_labels=True)\n",
    "plt.show()"
   ]
  },
  {
   "cell_type": "code",
   "execution_count": 4,
   "metadata": {},
   "outputs": [
    {
     "name": "stderr",
     "output_type": "stream",
     "text": [
      "/var/folders/53/b8z3c5xs0l51w2mzflnyk6400000gn/T/ipykernel_57800/1234351715.py:15: FutureWarning: adjacency_matrix will return a scipy.sparse array instead of a matrix in Networkx 3.0.\n",
      "  g_adj = nx.adjacency_matrix(g).toarray() # todense()\n",
      "/var/folders/53/b8z3c5xs0l51w2mzflnyk6400000gn/T/ipykernel_57800/1234351715.py:49: FutureWarning: adjacency_matrix will return a scipy.sparse array instead of a matrix in Networkx 3.0.\n",
      "  adj_comp = nx.adjacency_matrix(G, nodelist=None, dtype=None, weight='weight')\n"
     ]
    }
   ],
   "source": [
    "G = QGraph(g)"
   ]
  },
  {
   "cell_type": "code",
   "execution_count": null,
   "metadata": {},
   "outputs": [],
   "source": [
    "G.n_qubits"
   ]
  },
  {
   "cell_type": "code",
   "execution_count": 5,
   "metadata": {},
   "outputs": [],
   "source": [
    "import torch\n",
    "def bin_int_to_list(a, n_bits):\n",
    "    import numpy as numpy_np\n",
    "    a = int(a)\n",
    "    a_list = [int(i) for i in f'{a:0{n_bits}b}']\n",
    "    # a_list.reverse()\n",
    "    return numpy_np.array(a_list)\n",
    "\n",
    "def nums_to_bin_tensor(num_list, n_data, torch_device='cpu'):\n",
    "    bin_list_list = np.array([bin_int_to_list(n, n_data) for n in num_list])\n",
    "    tens_list = torch.tensor(bin_list_list, dtype=torch.float32)\n",
    "    return tens_list.to(torch_device)\n",
    "\n",
    "X = nums_to_bin_tensor(range(G.adj.shape[0]), G.n_qubits, torch_device=\"cpu\")\n",
    "Y = torch.tensor(G.adj, dtype=torch.float32)"
   ]
  },
  {
   "cell_type": "code",
   "execution_count": null,
   "metadata": {},
   "outputs": [],
   "source": [
    "X"
   ]
  },
  {
   "cell_type": "code",
   "execution_count": null,
   "metadata": {},
   "outputs": [],
   "source": [
    "Y"
   ]
  },
  {
   "cell_type": "code",
   "execution_count": 6,
   "metadata": {},
   "outputs": [],
   "source": [
    "import pennylane as qml\n",
    "\n",
    "n_qubits = 3\n",
    "dev = qml.device(\"default.qubit\", wires=n_qubits)\n",
    "# NASZ kwantowy PQC - parametryzowany obwód kwantowy dla jednej warstwy ukrytej\n",
    "@qml.qnode(dev)\n",
    "def qnode(inputs, weights):\n",
    "    qml.AmplitudeEmbedding(inputs, wires=range(n_qubits))\n",
    "    qml.BasicEntanglerLayers(weights, wires=range(n_qubits))\n",
    "    return [qml.expval(qml.PauliZ(wires=i)) for i in range(n_qubits)]\n",
    "\n"
   ]
  },
  {
   "cell_type": "code",
   "execution_count": 7,
   "metadata": {},
   "outputs": [],
   "source": [
    "import numpy as nnp\n",
    "import pennylane as qml\n",
    "\n",
    "class qgraph_model(torch.nn.Module):\n",
    "\n",
    "    def __init__(self, n_qubits: int, \n",
    "                 n_layers: int, \n",
    "                 rot: str ='Ry', \n",
    "                 shots: int = 0, \n",
    "                 scaler: float = nnp.pi):\n",
    "        \"\"\"\n",
    "        Parameters:\n",
    "        -----------\n",
    "        n_qubits: int - number of qubits for QNN model\n",
    "        rot: str      - if 'Ry' - one parameter qubit gate, if 'Rxyz' - three parameters qubit gate\n",
    "        scaler: float - scaling of data values for example to radians \n",
    "        n_layers: int - \n",
    "        shots: int    - number of shots if needed\n",
    "        \"\"\"\n",
    "        super(qgraph_model, self).__init__()\n",
    "        self.n_qubits = n_qubits\n",
    "        self.rot      = rot\n",
    "        self.scaler   = scaler\n",
    "        self.n_layers = n_layers\n",
    "        self.shots    = shots\n",
    "\n",
    "        self.layers = torch.nn.Sequential(\n",
    "            self.quantum_layer(),\n",
    "        )\n",
    "\n",
    "    def forward(self, x):\n",
    "        return  self.layers(x)\n",
    "\n",
    "    def _basis(self):\n",
    "        def _circ(inputs, weights):\n",
    "            self._state_preparation_amplitude(inputs)\n",
    "            self._ansatz(weights)\n",
    "            return qml.probs(wires=self.n_qubits)\n",
    "        return _circ\n",
    "            \n",
    "\n",
    "    def quantum_layer(self):\n",
    "        if self.shots == 0:\n",
    "            dev = qml.device('default.qubit', wires=self.n_qubits)\n",
    "        else:\n",
    "            dev = qml.device('default.qubit', wires=self.n_qubits, shots=self.shots)\n",
    "        qgraph = self._basis()\n",
    "        qnode = qml.QNode(qgraph, dev, interface='torch')\n",
    "        weight_shapes = {\"weights\": (self.n_layers, self.n_qubits)}\n",
    "        return qml.qnn.TorchLayer(qnode, weight_shapes)\n",
    "    \n",
    "    def _state_preparation_binary(self, x):\n",
    "        \"\"\"\n",
    "        prepare state for a row of data in binary ecoding\n",
    "        \"\"\"\n",
    "        qml.BasisState(x, wires=range(self.n_qubits))\n",
    "\n",
    "    def _state_preparation_angle(self, x):\n",
    "        \"\"\"\n",
    "        prepare state for a row of scaled data in angle ecoding\n",
    "        \"\"\"\n",
    "        scaled_inputs = torch.mul(x, self.scaler)\n",
    "        qml.AngleEmbedding(scaled_inputs, wires=self.n_qubits)\n",
    "\n",
    "    def _state_preparation_amplitude(self, x):\n",
    "        \"\"\"\n",
    "        prepare state for row a data in angle ecoding\n",
    "        \"\"\"\n",
    "        scaled_inputs = torch.mul(x, self.scaler)\n",
    "        qml.AmplitudeEmbedding(scaled_inputs, wires=range(self.n_qubits))\n",
    "\n",
    "    def _ansatz(self, weights):\n",
    "        if self.rot == 'Ry':\n",
    "            qml.BasicEntanglerLayers(weights, rotation=qml.RY, wires=range(self.n_qubits))\n",
    "        elif self.rot == 'Rxyz':\n",
    "            qml.StronglyEntanglingLayers(weights, wires=range(self.n_qubits))\n",
    "\n",
    "    def get_weights(self):\n",
    "        return {k:v for k, v in self.state_dict().items() if \"weight\" in k}\n",
    "\n",
    "    def get_biases(self):\n",
    "        return {k:v for k, v in self.state_dict().items() if \"bias\" in k}"
   ]
  },
  {
   "cell_type": "code",
   "execution_count": 8,
   "metadata": {},
   "outputs": [],
   "source": [
    "m = qgraph_model(3,1, rot=\"Rxyz\")"
   ]
  },
  {
   "cell_type": "code",
   "execution_count": 20,
   "metadata": {},
   "outputs": [
    {
     "data": {
      "text/plain": [
       "(1, 1, 3)"
      ]
     },
     "execution_count": 20,
     "metadata": {},
     "output_type": "execute_result"
    }
   ],
   "source": [
    "np.array([m.get_weights()['layers.0.weights']]).shape"
   ]
  },
  {
   "cell_type": "code",
   "execution_count": 10,
   "metadata": {},
   "outputs": [
    {
     "data": {
      "text/plain": [
       "OrderedDict([('layers.0.weights', tensor([[2.8001, 2.7653, 2.5429]]))])"
      ]
     },
     "execution_count": 10,
     "metadata": {},
     "output_type": "execute_result"
    }
   ],
   "source": [
    "m.state_dict()"
   ]
  },
  {
   "cell_type": "code",
   "execution_count": null,
   "metadata": {},
   "outputs": [
    {
     "ename": "IndexError",
     "evalue": "tuple index out of range",
     "output_type": "error",
     "traceback": [
      "\u001b[0;31m---------------------------------------------------------------------------\u001b[0m",
      "\u001b[0;31mIndexError\u001b[0m                                Traceback (most recent call last)",
      "Cell \u001b[0;32mIn[17], line 1\u001b[0m\n\u001b[0;32m----> 1\u001b[0m \u001b[43mm\u001b[49m\u001b[38;5;241;43m.\u001b[39;49m\u001b[43m_ansatz\u001b[49m\u001b[43m(\u001b[49m\u001b[43mm\u001b[49m\u001b[38;5;241;43m.\u001b[39;49m\u001b[43mget_weights\u001b[49m\u001b[43m(\u001b[49m\u001b[43m)\u001b[49m\u001b[43m[\u001b[49m\u001b[38;5;124;43m'\u001b[39;49m\u001b[38;5;124;43mlayers.0.weights\u001b[39;49m\u001b[38;5;124;43m'\u001b[39;49m\u001b[43m]\u001b[49m\u001b[38;5;241;43m.\u001b[39;49m\u001b[43mnumpy\u001b[49m\u001b[43m(\u001b[49m\u001b[43m)\u001b[49m\u001b[43m)\u001b[49m\n",
      "Cell \u001b[0;32mIn[7], line 76\u001b[0m, in \u001b[0;36mqgraph_model._ansatz\u001b[0;34m(self, weights)\u001b[0m\n\u001b[1;32m     74\u001b[0m     qml\u001b[38;5;241m.\u001b[39mBasicEntanglerLayers(weights, rotation\u001b[38;5;241m=\u001b[39mqml\u001b[38;5;241m.\u001b[39mRY, wires\u001b[38;5;241m=\u001b[39m\u001b[38;5;28mrange\u001b[39m(\u001b[38;5;28mself\u001b[39m\u001b[38;5;241m.\u001b[39mn_qubits))\n\u001b[1;32m     75\u001b[0m \u001b[38;5;28;01melif\u001b[39;00m \u001b[38;5;28mself\u001b[39m\u001b[38;5;241m.\u001b[39mrot \u001b[38;5;241m==\u001b[39m \u001b[38;5;124m'\u001b[39m\u001b[38;5;124mRxyz\u001b[39m\u001b[38;5;124m'\u001b[39m:\n\u001b[0;32m---> 76\u001b[0m     \u001b[43mqml\u001b[49m\u001b[38;5;241;43m.\u001b[39;49m\u001b[43mStronglyEntanglingLayers\u001b[49m\u001b[43m(\u001b[49m\u001b[43mweights\u001b[49m\u001b[43m,\u001b[49m\u001b[43m \u001b[49m\u001b[43mwires\u001b[49m\u001b[38;5;241;43m=\u001b[39;49m\u001b[38;5;28;43mrange\u001b[39;49m\u001b[43m(\u001b[49m\u001b[38;5;28;43mself\u001b[39;49m\u001b[38;5;241;43m.\u001b[39;49m\u001b[43mn_qubits\u001b[49m\u001b[43m)\u001b[49m\u001b[43m)\u001b[49m\n",
      "File \u001b[0;32m~/Desktop/With Jacob/QGraphs/venv/lib/python3.11/site-packages/pennylane/capture/capture_meta.py:89\u001b[0m, in \u001b[0;36mCaptureMeta.__call__\u001b[0;34m(cls, *args, **kwargs)\u001b[0m\n\u001b[1;32m     85\u001b[0m \u001b[38;5;28;01mif\u001b[39;00m enabled():\n\u001b[1;32m     86\u001b[0m     \u001b[38;5;66;03m# when tracing is enabled, we want to\u001b[39;00m\n\u001b[1;32m     87\u001b[0m     \u001b[38;5;66;03m# use bind to construct the class if we want class construction to add it to the jaxpr\u001b[39;00m\n\u001b[1;32m     88\u001b[0m     \u001b[38;5;28;01mreturn\u001b[39;00m \u001b[38;5;28mcls\u001b[39m\u001b[38;5;241m.\u001b[39m_primitive_bind_call(\u001b[38;5;241m*\u001b[39margs, \u001b[38;5;241m*\u001b[39m\u001b[38;5;241m*\u001b[39mkwargs)\n\u001b[0;32m---> 89\u001b[0m \u001b[38;5;28;01mreturn\u001b[39;00m \u001b[38;5;28;43mtype\u001b[39;49m\u001b[38;5;241;43m.\u001b[39;49m\u001b[38;5;21;43m__call__\u001b[39;49m\u001b[43m(\u001b[49m\u001b[38;5;28;43mcls\u001b[39;49m\u001b[43m,\u001b[49m\u001b[43m \u001b[49m\u001b[38;5;241;43m*\u001b[39;49m\u001b[43margs\u001b[49m\u001b[43m,\u001b[49m\u001b[43m \u001b[49m\u001b[38;5;241;43m*\u001b[39;49m\u001b[38;5;241;43m*\u001b[39;49m\u001b[43mkwargs\u001b[49m\u001b[43m)\u001b[49m\n",
      "File \u001b[0;32m~/Desktop/With Jacob/QGraphs/venv/lib/python3.11/site-packages/pennylane/templates/layers/strongly_entangling.py:144\u001b[0m, in \u001b[0;36mStronglyEntanglingLayers.__init__\u001b[0;34m(self, weights, wires, ranges, imprimitive, id)\u001b[0m\n\u001b[1;32m    139\u001b[0m \u001b[38;5;28;01mif\u001b[39;00m shape[\u001b[38;5;241m1\u001b[39m] \u001b[38;5;241m!=\u001b[39m \u001b[38;5;28mlen\u001b[39m(wires):\n\u001b[1;32m    140\u001b[0m     \u001b[38;5;28;01mraise\u001b[39;00m \u001b[38;5;167;01mValueError\u001b[39;00m(\n\u001b[1;32m    141\u001b[0m         \u001b[38;5;124mf\u001b[39m\u001b[38;5;124m\"\u001b[39m\u001b[38;5;124mWeights tensor must have second dimension of length \u001b[39m\u001b[38;5;132;01m{\u001b[39;00m\u001b[38;5;28mlen\u001b[39m(wires)\u001b[38;5;132;01m}\u001b[39;00m\u001b[38;5;124m; got \u001b[39m\u001b[38;5;132;01m{\u001b[39;00mshape[\u001b[38;5;241m1\u001b[39m]\u001b[38;5;132;01m}\u001b[39;00m\u001b[38;5;124m\"\u001b[39m\n\u001b[1;32m    142\u001b[0m     )\n\u001b[0;32m--> 144\u001b[0m \u001b[38;5;28;01mif\u001b[39;00m \u001b[43mshape\u001b[49m\u001b[43m[\u001b[49m\u001b[38;5;241;43m2\u001b[39;49m\u001b[43m]\u001b[49m \u001b[38;5;241m!=\u001b[39m \u001b[38;5;241m3\u001b[39m:\n\u001b[1;32m    145\u001b[0m     \u001b[38;5;28;01mraise\u001b[39;00m \u001b[38;5;167;01mValueError\u001b[39;00m(\n\u001b[1;32m    146\u001b[0m         \u001b[38;5;124mf\u001b[39m\u001b[38;5;124m\"\u001b[39m\u001b[38;5;124mWeights tensor must have third dimension of length 3; got \u001b[39m\u001b[38;5;132;01m{\u001b[39;00mshape[\u001b[38;5;241m2\u001b[39m]\u001b[38;5;132;01m}\u001b[39;00m\u001b[38;5;124m\"\u001b[39m\n\u001b[1;32m    147\u001b[0m     )\n\u001b[1;32m    149\u001b[0m \u001b[38;5;28;01mif\u001b[39;00m ranges \u001b[38;5;129;01mis\u001b[39;00m \u001b[38;5;28;01mNone\u001b[39;00m:\n",
      "\u001b[0;31mIndexError\u001b[0m: tuple index out of range"
     ]
    }
   ],
   "source": [
    "m._ansatz(m.get_weights()['layers.0.weights'])"
   ]
  },
  {
   "cell_type": "code",
   "execution_count": null,
   "metadata": {},
   "outputs": [],
   "source": []
  }
 ],
 "metadata": {
  "kernelspec": {
   "display_name": "venv",
   "language": "python",
   "name": "python3"
  },
  "language_info": {
   "codemirror_mode": {
    "name": "ipython",
    "version": 3
   },
   "file_extension": ".py",
   "mimetype": "text/x-python",
   "name": "python",
   "nbconvert_exporter": "python",
   "pygments_lexer": "ipython3",
   "version": "3.11.11"
  }
 },
 "nbformat": 4,
 "nbformat_minor": 2
}
